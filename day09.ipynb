{
 "cells": [
  {
   "cell_type": "markdown",
   "metadata": {
    "pycharm": {
     "name": "#%% md\n"
    },
    "scrolled": false
   },
   "source": [
    "# Set puzzle parameters and create AoC Session"
   ]
  },
  {
   "cell_type": "code",
   "execution_count": null,
   "metadata": {},
   "outputs": [],
   "source": [
    "# set puzzle parameters\n",
    "PUZZLE_DAY = 9\n",
    "PUZZLE_YEAR = 2024\n",
    "\n",
    "# import from local packages\n",
    "from aoc_solver import AoCSession, AoCSolver, AoCTester\n",
    "AoC_SESSION = AoCSession.from_file()"
   ]
  },
  {
   "cell_type": "markdown",
   "metadata": {},
   "source": [
    "# Import additional packages"
   ]
  },
  {
   "cell_type": "code",
   "execution_count": null,
   "metadata": {},
   "outputs": [],
   "source": [
    "# import from standard library packages\n",
    "from typing import Tuple\n",
    "\n",
    "# import from third-party packages\n",
    "import polars\n",
    "from polars import Series\n",
    "from tqdm.notebook import tqdm"
   ]
  },
  {
   "cell_type": "markdown",
   "metadata": {
    "pycharm": {
     "name": "#%% md\n"
    },
    "scrolled": false
   },
   "source": [
    "# Create solver class and instance"
   ]
  },
  {
   "cell_type": "code",
   "execution_count": null,
   "metadata": {
    "pycharm": {
     "name": "#%%\n"
    }
   },
   "outputs": [],
   "source": [
    "class Solver(AoCSolver):\n",
    "    def solve_part1(self, data: Tuple[str]) -> int:\n",
    "        filesystem_length = sum(int(i) for i in data)\n",
    "        filesystem = Series(['.']*filesystem_length)\n",
    "        \n",
    "        file_id = 0\n",
    "        current_index = 0\n",
    "        open_blocks = []\n",
    "        for i, record in enumerate(tqdm(data)):\n",
    "            current_blocks = list(range(current_index, current_index+record))\n",
    "            if i % 2 == 0:\n",
    "                filesystem[current_blocks] = Series([file_id]*record)\n",
    "                file_id += 1\n",
    "            else:\n",
    "                open_blocks.extend(current_blocks)\n",
    "            current_index += record\n",
    "        \n",
    "        open_blocks_index = 0\n",
    "        for i in tqdm(range(filesystem_length-1, -1, -1)):\n",
    "            if filesystem[i] == '.':\n",
    "                continue\n",
    "            if i <= open_blocks[open_blocks_index]:\n",
    "                break\n",
    "            filesystem[open_blocks[open_blocks_index]] = filesystem[i]\n",
    "            filesystem[i] = '.'\n",
    "            open_blocks_index += 1\n",
    "        return sum(i*int(x) for i,x in enumerate(filesystem) if x != '.')\n",
    "\n",
    "    def solve_part2(self, data: Tuple[str]) -> int:\n",
    "        filesystem_length = sum(int(i) for i in data)\n",
    "        filesystem = Series(['.']*filesystem_length)\n",
    "        \n",
    "        file_id = 0\n",
    "        current_index = 0\n",
    "        open_blocks = {}  # {starting block: length}\n",
    "        file_locations = {}  # {file_name: (starting block, length)}\n",
    "        for i, record in enumerate(tqdm(data)):\n",
    "            current_blocks = list(range(current_index, current_index+record))\n",
    "            if i % 2 == 0:\n",
    "                filesystem[current_blocks] = Series([file_id]*record)\n",
    "                file_locations[file_id] = (current_index, record)\n",
    "                file_id += 1\n",
    "            elif record > 0:\n",
    "                open_blocks[current_index] = record\n",
    "            current_index += record\n",
    "        \n",
    "        file_locations = dict(sorted(file_locations.items(), reverse=True))\n",
    "        for file_id, (file_location, file_length) in tqdm(file_locations.items()):\n",
    "            try:\n",
    "                open_block_location = min(\n",
    "                    k for k in open_blocks.keys()\n",
    "                    if open_blocks[k] >= file_length and k < file_location\n",
    "                )\n",
    "            except ValueError:\n",
    "                continue\n",
    "            \n",
    "            # copy file to new location\n",
    "            new_file_indices = list(range(\n",
    "                open_block_location,\n",
    "                open_block_location+file_length\n",
    "            ))\n",
    "            filesystem[new_file_indices] = Series([file_id]*file_length)\n",
    "            open_block_length = open_blocks.pop(open_block_location)\n",
    "            open_block_indices = list(range(\n",
    "                open_block_location,\n",
    "                open_block_location+open_block_length\n",
    "            ))\n",
    "            if len(open_block_indices) > file_length:\n",
    "                open_block_location += file_length\n",
    "                open_block_length -= file_length\n",
    "                open_blocks[open_block_location] = open_block_length\n",
    "            \n",
    "            # erase blocks for previous file location\n",
    "            new_open_indices = list(range(file_location, file_location+file_length))\n",
    "            filesystem[new_open_indices] = Series(['.']*file_length)\n",
    "            if (i := new_open_indices[-1]+1) in open_blocks.keys():\n",
    "                new_open_indices.extend(range(i, i+open_blocks.pop(i)))\n",
    "            try:\n",
    "                i = max(\n",
    "                    k for k in open_blocks.keys() if k < new_open_indices[0]\n",
    "                )\n",
    "                lh_adjustment = True\n",
    "            except ValueError:\n",
    "                lh_adjustment = False\n",
    "            if lh_adjustment and (i + open_blocks[i] == new_open_indices[0]):\n",
    "                new_open_indices.extend(range(i, i+open_blocks.pop(i)))\n",
    "            open_blocks[sorted(new_open_indices)[0]] = len(new_open_indices)\n",
    "            \n",
    "        return sum(i*int(x) for i,x in enumerate(filesystem) if x != '.')"
   ]
  },
  {
   "cell_type": "code",
   "execution_count": null,
   "metadata": {},
   "outputs": [],
   "source": [
    "solver = Solver(PUZZLE_YEAR, PUZZLE_DAY, AoC_SESSION)"
   ]
  },
  {
   "cell_type": "markdown",
   "metadata": {
    "pycharm": {
     "name": "#%% md\n"
    },
    "scrolled": false
   },
   "source": [
    "# Build part 1 test case(s)"
   ]
  },
  {
   "cell_type": "code",
   "execution_count": null,
   "metadata": {
    "pycharm": {
     "name": "#%%\n"
    }
   },
   "outputs": [],
   "source": [
    "puzzle_instructions = solver.puzzle_instructions\n",
    "puzzle_input = solver.puzzle_input.create_tuple(dtype=int ,separator='')\n",
    "\n",
    "part1_test_input = solver.get_value_after('For example:').create_tuple(dtype=int ,separator='')\n",
    "print(f'{part1_test_input=}\\n')\n",
    "\n",
    "part1_test_output = solver.get_value_after('is the sum of these, ').as_int\n",
    "print(f'{part1_test_output=}\\n')"
   ]
  },
  {
   "cell_type": "code",
   "execution_count": null,
   "metadata": {},
   "outputs": [],
   "source": [
    "part_1_tester = AoCTester()\n",
    "part_1_tester.add_test_case(part1_test_input, part1_test_output)"
   ]
  },
  {
   "cell_type": "code",
   "execution_count": null,
   "metadata": {},
   "outputs": [],
   "source": [
    "%%time\n",
    "part_1_tester.run_tests(solver.solve_part1)"
   ]
  },
  {
   "cell_type": "markdown",
   "metadata": {},
   "source": [
    "# Determine part 1 solution"
   ]
  },
  {
   "cell_type": "code",
   "execution_count": null,
   "metadata": {},
   "outputs": [],
   "source": [
    "%%time\n",
    "part1_solution = solver.solve_part1(puzzle_input)\n",
    "print(f'{part1_solution=}\\n')"
   ]
  },
  {
   "cell_type": "markdown",
   "metadata": {},
   "source": [
    "# Add part 1 solution to part 1 test cases"
   ]
  },
  {
   "cell_type": "code",
   "execution_count": null,
   "metadata": {
    "pycharm": {
     "name": "#%%\n"
    }
   },
   "outputs": [],
   "source": [
    "part_1_tester.add_test_case(puzzle_input, part1_solution)"
   ]
  },
  {
   "cell_type": "code",
   "execution_count": null,
   "metadata": {},
   "outputs": [],
   "source": [
    "%%time\n",
    "part_1_tester.run_tests(solver.solve_part1)"
   ]
  },
  {
   "cell_type": "markdown",
   "metadata": {},
   "source": [
    "# Build part 2 test case(s)"
   ]
  },
  {
   "cell_type": "code",
   "execution_count": null,
   "metadata": {},
   "outputs": [],
   "source": [
    "solver.download_instructions(overwrite=True)"
   ]
  },
  {
   "cell_type": "code",
   "execution_count": null,
   "metadata": {},
   "outputs": [],
   "source": [
    "part2_test_input = part1_test_input\n",
    "print(f'{part2_test_input=}\\n')\n",
    "\n",
    "part2_test_output = solver.get_value_after('example\\'s checksum would be ').as_int\n",
    "print(f'{part2_test_output=}\\n')"
   ]
  },
  {
   "cell_type": "code",
   "execution_count": null,
   "metadata": {
    "pycharm": {
     "name": "#%%\n"
    }
   },
   "outputs": [],
   "source": [
    "part_2_tester = AoCTester()\n",
    "part_2_tester.add_test_case(part2_test_input, part2_test_output)"
   ]
  },
  {
   "cell_type": "code",
   "execution_count": null,
   "metadata": {},
   "outputs": [],
   "source": [
    "%%time\n",
    "part_2_tester.run_tests(solver.solve_part2)"
   ]
  },
  {
   "cell_type": "markdown",
   "metadata": {},
   "source": [
    "# Determine part 2 solution"
   ]
  },
  {
   "cell_type": "code",
   "execution_count": null,
   "metadata": {},
   "outputs": [],
   "source": [
    "%%time\n",
    "part2_solution = solver.solve_part2(puzzle_input)\n",
    "print(f'{part2_solution=}\\n')"
   ]
  }
 ],
 "metadata": {
  "kernelspec": {
   "display_name": "Python 3 (ipykernel)",
   "language": "python",
   "name": "python3"
  },
  "language_info": {
   "codemirror_mode": {
    "name": "ipython",
    "version": 3
   },
   "file_extension": ".py",
   "mimetype": "text/x-python",
   "name": "python",
   "nbconvert_exporter": "python",
   "pygments_lexer": "ipython3",
   "version": "3.12.8"
  }
 },
 "nbformat": 4,
 "nbformat_minor": 4
}
