{
 "cells": [
  {
   "cell_type": "markdown",
   "metadata": {
    "pycharm": {
     "name": "#%% md\n"
    },
    "scrolled": false
   },
   "source": [
    "# Set puzzle parameters and create AoC Session"
   ]
  },
  {
   "cell_type": "code",
   "execution_count": null,
   "metadata": {},
   "outputs": [],
   "source": [
    "# set puzzle parameters\n",
    "PUZZLE_DAY = 10\n",
    "PUZZLE_YEAR = 2024\n",
    "\n",
    "# import from local packages\n",
    "from aoc_solver import AoCSession, AoCSolver, AoCTester\n",
    "AoC_SESSION = AoCSession.from_file()"
   ]
  },
  {
   "cell_type": "markdown",
   "metadata": {},
   "source": [
    "# Import additional packages"
   ]
  },
  {
   "cell_type": "code",
   "execution_count": null,
   "metadata": {},
   "outputs": [],
   "source": [
    "# import from standard library packages\n",
    "from dataclasses import dataclass, field\n",
    "from typing import Dict, List, Optional, Self, Tuple\n",
    "\n",
    "# import from third-party packages\n",
    "from polars import DataFrame\n",
    "from tqdm.notebook import tqdm\n",
    "\n",
    "# import from local packages\n",
    "from aoc_solver import AoCMap, Direction"
   ]
  },
  {
   "cell_type": "markdown",
   "metadata": {
    "pycharm": {
     "name": "#%% md\n"
    },
    "scrolled": false
   },
   "source": [
    "# Create solver class and instance"
   ]
  },
  {
   "cell_type": "code",
   "execution_count": null,
   "metadata": {
    "pycharm": {
     "name": "#%%\n"
    }
   },
   "outputs": [],
   "source": [
    "@dataclass\n",
    "class TrailNode:\n",
    "    height: int\n",
    "    position: Tuple[int, int]\n",
    "    ascents: Dict[Direction, Optional[Self]] = field(default_factory=dict)\n",
    "\n",
    "@dataclass\n",
    "class TrailHead:\n",
    "    head: TrailNode\n",
    "    tails: List[TrailNode] = field(default_factory=list)\n",
    "    cardinal_directions: List[Direction] = field(default_factory=list)\n",
    "        \n",
    "    def __post_init__(self):\n",
    "        self.cardinal_directions = [Direction.N, Direction.E, Direction.S, Direction.W]\n",
    "        \n",
    "    def map_trails(self, data: AoCMap) -> None:\n",
    "        \n",
    "        def explore_from_node(\n",
    "            data: AoCMap,\n",
    "            node: TrailNode,\n",
    "            directions = self.cardinal_directions,\n",
    "            tails = self.tails,\n",
    "        ) -> None:\n",
    "            for direction in directions:\n",
    "                data.position = node.position\n",
    "                data.walk(steps=1, direction=direction)\n",
    "                new_position = data.position\n",
    "                new_height = data.look(0)\n",
    "                if new_position == node.position or new_height != node.height + 1:\n",
    "                    continue\n",
    "                new_node = TrailNode(height=new_height, position=new_position)\n",
    "                if new_height == 9:\n",
    "                    tails.append(new_node)\n",
    "                    continue\n",
    "                node.ascents[direction] = new_node\n",
    "                explore_from_node(data=data, node = new_node)\n",
    "        \n",
    "        explore_from_node(data=data, node=self.head)\n",
    "        \n",
    "    @property\n",
    "    def score(self) -> int:\n",
    "        return len({tail.position for tail in self.tails})\n",
    "    \n",
    "    @property\n",
    "    def rating(self) -> int:\n",
    "        return len([tail.position for tail in self.tails])\n",
    "\n",
    "class Solver(AoCSolver):\n",
    "    \n",
    "    @staticmethod\n",
    "    def build_trails(data: DataFrame) -> List[TrailHead]:\n",
    "        topo_map = AoCMap(data)\n",
    "        start_positions = topo_map.element_positions[0]\n",
    "        trailheads = [\n",
    "            TrailHead(TrailNode(height=0, position=position))\n",
    "            for position in start_positions\n",
    "        ]\n",
    "        for trailhead in tqdm(trailheads): \n",
    "            trailhead.map_trails(data=topo_map)\n",
    "        return trailheads\n",
    "    \n",
    "    def solve_part1(self, data: DataFrame) -> int:\n",
    "        trailheads = self.build_trails(data)\n",
    "        return sum(trailhead.score for trailhead in trailheads)\n",
    "\n",
    "    def solve_part2(self, data: DataFrame) -> int:\n",
    "        trailheads = self.build_trails(data)\n",
    "        return sum(trailhead.rating for trailhead in trailheads)"
   ]
  },
  {
   "cell_type": "code",
   "execution_count": null,
   "metadata": {},
   "outputs": [],
   "source": [
    "solver = Solver(PUZZLE_YEAR, PUZZLE_DAY, AoC_SESSION)"
   ]
  },
  {
   "cell_type": "markdown",
   "metadata": {
    "pycharm": {
     "name": "#%% md\n"
    },
    "scrolled": false
   },
   "source": [
    "# Build part 1 test case(s)"
   ]
  },
  {
   "cell_type": "code",
   "execution_count": null,
   "metadata": {
    "pycharm": {
     "name": "#%%\n"
    }
   },
   "outputs": [],
   "source": [
    "puzzle_instructions = solver.puzzle_instructions\n",
    "puzzle_input = solver.puzzle_input.create_polars(dtype=int ,separator='')\n",
    "\n",
    "part1_test_input = solver.get_value_after('Here\\'s a larger example:').create_polars(dtype=int ,separator = '')\n",
    "print(f'{part1_test_input=}\\n')\n",
    "\n",
    "part1_test_output = solver.get_value_after('all trailheads is ').as_int\n",
    "print(f'{part1_test_output=}\\n')"
   ]
  },
  {
   "cell_type": "code",
   "execution_count": null,
   "metadata": {},
   "outputs": [],
   "source": [
    "part_1_tester = AoCTester()\n",
    "part_1_tester.add_test_case(part1_test_input, part1_test_output)"
   ]
  },
  {
   "cell_type": "code",
   "execution_count": null,
   "metadata": {},
   "outputs": [],
   "source": [
    "%%time\n",
    "part_1_tester.run_tests(solver.solve_part1)"
   ]
  },
  {
   "cell_type": "markdown",
   "metadata": {},
   "source": [
    "# Determine part 1 solution"
   ]
  },
  {
   "cell_type": "code",
   "execution_count": null,
   "metadata": {},
   "outputs": [],
   "source": [
    "%%time\n",
    "part1_solution = solver.solve_part1(puzzle_input)\n",
    "print(f'{part1_solution=}\\n')"
   ]
  },
  {
   "cell_type": "markdown",
   "metadata": {},
   "source": [
    "# Add part 1 solution to part 1 test cases"
   ]
  },
  {
   "cell_type": "code",
   "execution_count": null,
   "metadata": {
    "pycharm": {
     "name": "#%%\n"
    }
   },
   "outputs": [],
   "source": [
    "part_1_tester.add_test_case(puzzle_input, part1_solution)"
   ]
  },
  {
   "cell_type": "code",
   "execution_count": null,
   "metadata": {},
   "outputs": [],
   "source": [
    "%%time\n",
    "part_1_tester.run_tests(solver.solve_part1)"
   ]
  },
  {
   "cell_type": "markdown",
   "metadata": {},
   "source": [
    "# Build part 2 test case(s)"
   ]
  },
  {
   "cell_type": "code",
   "execution_count": null,
   "metadata": {},
   "outputs": [],
   "source": [
    "solver.download_instructions(overwrite=True)"
   ]
  },
  {
   "cell_type": "code",
   "execution_count": null,
   "metadata": {},
   "outputs": [],
   "source": [
    "part2_test_input = part1_test_input\n",
    "print(f'{part2_test_input=}\\n')\n",
    "\n",
    "part2_test_output = solver.get_value_after('example topographic map is ').as_int\n",
    "print(f'{part2_test_output=}\\n')"
   ]
  },
  {
   "cell_type": "code",
   "execution_count": null,
   "metadata": {
    "pycharm": {
     "name": "#%%\n"
    }
   },
   "outputs": [],
   "source": [
    "part_2_tester = AoCTester()\n",
    "part_2_tester.add_test_case(part2_test_input, part2_test_output)"
   ]
  },
  {
   "cell_type": "code",
   "execution_count": null,
   "metadata": {},
   "outputs": [],
   "source": [
    "%%time\n",
    "part_2_tester.run_tests(solver.solve_part2)"
   ]
  },
  {
   "cell_type": "markdown",
   "metadata": {},
   "source": [
    "# Determine part 2 solution"
   ]
  },
  {
   "cell_type": "code",
   "execution_count": null,
   "metadata": {},
   "outputs": [],
   "source": [
    "%%time\n",
    "part2_solution = solver.solve_part2(puzzle_input)\n",
    "print(f'{part2_solution=}\\n')"
   ]
  }
 ],
 "metadata": {
  "kernelspec": {
   "display_name": "Python 3 (ipykernel)",
   "language": "python",
   "name": "python3"
  },
  "language_info": {
   "codemirror_mode": {
    "name": "ipython",
    "version": 3
   },
   "file_extension": ".py",
   "mimetype": "text/x-python",
   "name": "python",
   "nbconvert_exporter": "python",
   "pygments_lexer": "ipython3",
   "version": "3.12.8"
  }
 },
 "nbformat": 4,
 "nbformat_minor": 4
}
