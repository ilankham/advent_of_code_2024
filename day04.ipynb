{
 "cells": [
  {
   "cell_type": "markdown",
   "metadata": {
    "pycharm": {
     "name": "#%% md\n"
    },
    "scrolled": false
   },
   "source": [
    "# Set puzzle parameters and create AoC Session"
   ]
  },
  {
   "cell_type": "code",
   "metadata": {},
   "source": [
    "# set puzzle parameters\n",
    "PUZZLE_DAY = 4\n",
    "PUZZLE_YEAR = 2024\n",
    "\n",
    "# import from local packages\n",
    "from aoc_solver import AoCSession, AoCSolver, AoCTester\n",
    "AoC_SESSION = AoCSession.from_file()"
   ],
   "outputs": [],
   "execution_count": null
  },
  {
   "cell_type": "markdown",
   "metadata": {},
   "source": [
    "# Import additional packages"
   ]
  },
  {
   "cell_type": "code",
   "metadata": {},
   "source": [
    "# import from third-party packages\n",
    "from polars import DataFrame"
   ],
   "outputs": [],
   "execution_count": null
  },
  {
   "cell_type": "markdown",
   "metadata": {
    "pycharm": {
     "name": "#%% md\n"
    },
    "scrolled": false
   },
   "source": [
    "# Create solver class and instance"
   ]
  },
  {
   "cell_type": "code",
   "metadata": {
    "pycharm": {
     "name": "#%%\n"
    }
   },
   "source": [
    "class Solver(AoCSolver):\n",
    "\n",
    "    def solve_part1(self, data: DataFrame) -> int:\n",
    "        x_max, y_max = data.shape\n",
    "        strings_to_check = []\n",
    "        for x in range(x_max):\n",
    "            for y in range(y_max):\n",
    "                if data[x,y] != 'X':\n",
    "                    continue\n",
    "                if y >= 3:  # look north\n",
    "                    strings_to_check.append(''.join(data[x, y-i] for i in [1,2,3]))\n",
    "                if x < x_max-3 and y >= 3:  # look northeast\n",
    "                    strings_to_check.append(''.join(data[x+i, y-i] for i in [1,2,3]))\n",
    "                if x < x_max-3:  # look east\n",
    "                    strings_to_check.append(''.join(data[x+i, y] for i in [1,2,3]))\n",
    "                if x < x_max-3 and y < y_max-3:  # look southeast\n",
    "                    strings_to_check.append(''.join(data[x+i, y+i] for i in [1,2,3]))\n",
    "                if y < y_max-3:  # look south\n",
    "                    strings_to_check.append(''.join(data[x, y+i] for i in [1,2,3]))\n",
    "                if x >= 3 and y < y_max-3:  # look southwest\n",
    "                    strings_to_check.append(''.join(data[x-i, y+i] for i in [1,2,3]))\n",
    "                if x >= 3:  # look west\n",
    "                    strings_to_check.append(''.join(data[x-i, y] for i in [1,2,3]))\n",
    "                if x >= 3 and y >= 3:  # look northwest\n",
    "                    strings_to_check.append(''.join(data[x-i, y-i] for i in [1,2,3]))\n",
    "        return strings_to_check.count('MAS')\n",
    "\n",
    "    def solve_part2(self, data: ...) -> int:\n",
    "        x_max, y_max = data.shape\n",
    "        strings_to_check = []\n",
    "        #print(f'{x_max=}')\n",
    "        #print(f'{y_max=}')\n",
    "        for x in range(x_max):\n",
    "            for y in range(y_max):\n",
    "                #print(f'{data[x,y]=}')\n",
    "                if data[x,y] != 'M':\n",
    "                    continue\n",
    "                if x < x_max-2 and y >= 2:  # look northeast\n",
    "                    strings_to_check.append(\n",
    "                        ''.join(\n",
    "                            [data[x+i, y-i] for i in [1,2]] +\n",
    "                            [data[x+(2-i), y-i] for i in [2,1,0]]\n",
    "                        )\n",
    "                    )\n",
    "                    strings_to_check.append(\n",
    "                        ''.join(\n",
    "                            [data[x+i, y-i] for i in [1,2]] +\n",
    "                            [data[x+i, y-(2-i)] for i in [2,1,0]]\n",
    "                        )\n",
    "                    )\n",
    "                if x < x_max-2 and y < y_max-2:  # look southeast\n",
    "                    strings_to_check.append(\n",
    "                        ''.join(\n",
    "                            [data[x+i, y+i] for i in [1,2]] +\n",
    "                            [data[x+(2-i), y+i] for i in [2,1,0]]\n",
    "                        )\n",
    "                    )\n",
    "                    strings_to_check.append(\n",
    "                        ''.join(\n",
    "                            [data[x+i, y+i] for i in [1,2]] +\n",
    "                            [data[x+i, y+(2-i)] for i in [2,1,0]]\n",
    "                        )\n",
    "                    )\n",
    "                if x >= 2 and y < y_max-2:  # look southwest\n",
    "                    strings_to_check.append(\n",
    "                        ''.join(\n",
    "                            [data[x-i, y+i] for i in [1,2]] +\n",
    "                            [data[x-(2-i), y+i] for i in [2,1,0]]\n",
    "                        )\n",
    "                    )\n",
    "                    strings_to_check.append(\n",
    "                        ''.join(\n",
    "                            [data[x-i, y+i] for i in [1,2]] +\n",
    "                            [data[x-i, y+(2-i)] for i in [2,1,0]]\n",
    "                        )\n",
    "                    )\n",
    "                if x >= 2 and y >= 2:  # look northwest\n",
    "                    strings_to_check.append(\n",
    "                        ''.join(\n",
    "                            [data[x-i, y-i] for i in [1,2]] +\n",
    "                            [data[x-(2-i), y-i] for i in [2,1,0]]\n",
    "                        )\n",
    "                    )\n",
    "                    strings_to_check.append(\n",
    "                        ''.join(\n",
    "                            [data[x-i, y-i] for i in [1,2]] +\n",
    "                            [data[x-i, y-(2-i)] for i in [2,1,0]]\n",
    "                        )\n",
    "                    )\n",
    "                #print(f'{strings_to_check=}')\n",
    "        return strings_to_check.count('ASMAS')//2"
   ],
   "outputs": [],
   "execution_count": null
  },
  {
   "cell_type": "code",
   "metadata": {},
   "source": [
    "solver = Solver(PUZZLE_YEAR, PUZZLE_DAY, AoC_SESSION)"
   ],
   "outputs": [],
   "execution_count": null
  },
  {
   "cell_type": "markdown",
   "metadata": {
    "pycharm": {
     "name": "#%% md\n"
    },
    "scrolled": false
   },
   "source": [
    "# Build part 1 test case(s)"
   ]
  },
  {
   "cell_type": "code",
   "metadata": {
    "pycharm": {
     "name": "#%%\n"
    }
   },
   "source": [
    "puzzle_instructions = solver.puzzle_instructions\n",
    "\n",
    "part1_test_input = solver.get_value_after('letters instead. For example:').create_polars()\n",
    "print(f'{part1_test_input=}\\n')\n",
    "\n",
    "part1_test_output = solver.get_value_after(' occurs a total of ').as_int\n",
    "print(f'{part1_test_output=}\\n')"
   ],
   "outputs": [],
   "execution_count": null
  },
  {
   "cell_type": "code",
   "metadata": {},
   "source": [
    "part_1_tester = AoCTester()\n",
    "part_1_tester.add_test_case(part1_test_input, part1_test_output)"
   ],
   "outputs": [],
   "execution_count": null
  },
  {
   "metadata": {},
   "cell_type": "code",
   "source": "part_1_tester.run_tests(solver.solve_part1)",
   "outputs": [],
   "execution_count": null
  },
  {
   "metadata": {},
   "cell_type": "markdown",
   "source": "# Determine part 1 solution"
  },
  {
   "metadata": {},
   "cell_type": "code",
   "source": [
    "puzzle_input = solver.puzzle_input.create_polars()\n",
    "part1_solution = solver.solve_part1(puzzle_input)\n",
    "print(f'{part1_solution=}\\n')"
   ],
   "outputs": [],
   "execution_count": null
  },
  {
   "metadata": {},
   "cell_type": "markdown",
   "source": "# Add part 1 solution to part 1 test cases"
  },
  {
   "cell_type": "code",
   "metadata": {
    "pycharm": {
     "name": "#%%\n"
    }
   },
   "source": "part_1_tester.add_test_case(puzzle_input, part1_solution)",
   "outputs": [],
   "execution_count": null
  },
  {
   "metadata": {},
   "cell_type": "code",
   "source": "part_1_tester.run_tests(solver.solve_part1)",
   "outputs": [],
   "execution_count": null
  },
  {
   "metadata": {},
   "cell_type": "markdown",
   "source": "# Build part 2 test case(s)"
  },
  {
   "cell_type": "code",
   "metadata": {},
   "source": "solver.download_instructions(overwrite=True)",
   "outputs": [],
   "execution_count": null
  },
  {
   "cell_type": "code",
   "metadata": {},
   "source": [
    "part2_test_input = part1_test_input\n",
    "print(f'{part2_test_input=}\\n')\n",
    "\n",
    "part2_test_output = solver.get_value_after(' appears ').as_int\n",
    "print(f'{part2_test_output=}\\n')"
   ],
   "outputs": [],
   "execution_count": null
  },
  {
   "cell_type": "code",
   "metadata": {
    "pycharm": {
     "name": "#%%\n"
    }
   },
   "source": [
    "part_2_tester = AoCTester()\n",
    "part_2_tester.add_test_case(part2_test_input, part2_test_output)"
   ],
   "outputs": [],
   "execution_count": null
  },
  {
   "metadata": {},
   "cell_type": "code",
   "source": "part_2_tester.run_tests(solver.solve_part2)",
   "outputs": [],
   "execution_count": null
  },
  {
   "metadata": {},
   "cell_type": "markdown",
   "source": "# Determine part 2 solution"
  },
  {
   "metadata": {},
   "cell_type": "code",
   "source": [
    "part2_solution = solver.solve_part2(puzzle_input)\n",
    "print(f'{part2_solution=}\\n')"
   ],
   "outputs": [],
   "execution_count": null
  }
 ],
 "metadata": {
  "kernelspec": {
   "display_name": "Python 3 (ipykernel)",
   "language": "python",
   "name": "python3"
  },
  "language_info": {
   "codemirror_mode": {
    "name": "ipython",
    "version": 3
   },
   "file_extension": ".py",
   "mimetype": "text/x-python",
   "name": "python",
   "nbconvert_exporter": "python",
   "pygments_lexer": "ipython3",
   "version": "3.12.8"
  }
 },
 "nbformat": 4,
 "nbformat_minor": 4
}
