{
 "cells": [
  {
   "cell_type": "markdown",
   "metadata": {
    "pycharm": {
     "name": "#%% md\n"
    },
    "scrolled": false
   },
   "source": [
    "# Set puzzle parameters and create AoC Session"
   ]
  },
  {
   "cell_type": "code",
   "metadata": {},
   "source": [
    "# set puzzle parameters\n",
    "PUZZLE_DAY = 6\n",
    "PUZZLE_YEAR = 2024\n",
    "\n",
    "# import from local packages\n",
    "from aoc_solver import AoCSession, AoCSolver, AoCTester\n",
    "AoC_SESSION = AoCSession.from_file()"
   ],
   "outputs": [],
   "execution_count": null
  },
  {
   "cell_type": "markdown",
   "metadata": {},
   "source": [
    "# Import additional packages"
   ]
  },
  {
   "cell_type": "code",
   "metadata": {},
   "source": [
    "# import from standard library packages\n",
    "from dataclasses import dataclass\n",
    "from enum import IntEnum\n",
    "import math\n",
    "from typing import Any, Dict, List, Optional, Tuple\n",
    "\n",
    "# import from third-party packages\n",
    "import polars\n",
    "from polars import DataFrame\n",
    "from tqdm.notebook import tqdm"
   ],
   "outputs": [],
   "execution_count": null
  },
  {
   "cell_type": "markdown",
   "metadata": {
    "pycharm": {
     "name": "#%% md\n"
    },
    "scrolled": false
   },
   "source": [
    "# Create solver class and instance"
   ]
  },
  {
   "cell_type": "code",
   "metadata": {},
   "source": [
    "class Direction(IntEnum):\n",
    "        N = 0\n",
    "        NE = 1\n",
    "        E = 2\n",
    "        SE = 3\n",
    "        S = 4\n",
    "        SW = 5\n",
    "        W = 6\n",
    "        NW = 7\n",
    "\n",
    "class OutOfBounds(Exception):\n",
    "    pass\n",
    "\n",
    "@dataclass\n",
    "class AoCMap:\n",
    "    df: DataFrame\n",
    "    x: int = 0\n",
    "    y: int = 0\n",
    "    heading: Direction = Direction.N\n",
    "        \n",
    "    def __repr__(self):\n",
    "        return str(self.df)\n",
    "    \n",
    "    def __getitem__(self, indices: Tuple[int, int]) -> Any:\n",
    "        x, y = indices\n",
    "        if x not in range(self.x_max) or y not in range(self.y_max):\n",
    "            raise OutOfBounds(f'Position {indices} is out of bounds!')\n",
    "        return self.df[y,x]\n",
    "    \n",
    "    def clone(self):\n",
    "        return AoCMap(self.df.clone(), self.x, self.y, self.heading)\n",
    "    \n",
    "    @property\n",
    "    def x_max(self) -> int:\n",
    "        _, x_max = self.df.shape\n",
    "        return x_max\n",
    "    \n",
    "    @property\n",
    "    def y_max(self) -> int:\n",
    "        y_max, _ = self.df.shape\n",
    "        return y_max\n",
    "    \n",
    "    @property\n",
    "    def position(self) -> Tuple[int, int]:\n",
    "        return self.x, self.y\n",
    "    \n",
    "    @position.setter\n",
    "    def position(self, value: Tuple[int, int]) -> None:\n",
    "        x_new, y_new = value\n",
    "        if x_new not in range(self.x_max) or y_new not in range(self.y_max):\n",
    "            raise OutOfBounds(f'Position {value} is out of bounds!')\n",
    "        self.x, self.y = x_new, y_new\n",
    "\n",
    "    @property\n",
    "    def at_edge(self) -> bool:\n",
    "        return (self.x==0 or self.x==self.x_max-1) or (self.y==0 or self.y==self.y_max-1)\n",
    "    \n",
    "    @property\n",
    "    def value_counts(self) -> Dict[Any, int]:\n",
    "        return dict(\n",
    "            sorted(\n",
    "                self.df.unpivot().get_column('value').value_counts().iter_rows()\n",
    "            )\n",
    "        )\n",
    "    \n",
    "    def look(self, steps: Optional[int] = None, direction: Optional[Direction] = None) -> Optional[List] | Any:\n",
    "        if steps is None:\n",
    "            steps = math.inf\n",
    "        if direction is None:\n",
    "            direction = self.heading\n",
    "        if steps == 0:\n",
    "            return self.df[self.y, self.x]\n",
    "        if steps < 0:\n",
    "            direction = Direction((direction + 4) % 8)\n",
    "            steps = abs(steps)\n",
    "        max_steps_N = min(steps, self.y)\n",
    "        max_steps_E = min(steps, (self.x_max - 1) - self.x)\n",
    "        max_steps_S = min(steps, (self.y_max - 1) - self.y)\n",
    "        max_steps_W = min(steps, self.x)\n",
    "        match direction:\n",
    "            case Direction.N:\n",
    "                max_steps = range(1, max_steps_N+1)\n",
    "                return_value = [self.df[self.y-i, self.x] for i in max_steps]\n",
    "            case Direction.NE:\n",
    "                max_steps = range(1, min(max_steps_N, max_steps_E)+1)\n",
    "                return_value = [self.df[self.y-i, self.x+i] for i in max_steps]\n",
    "            case Direction.E:\n",
    "                max_steps = range(1, max_steps_E+1)\n",
    "                return_value = [self.df[self.y, self.x+i] for i in max_steps]\n",
    "            case Direction.SE:\n",
    "                max_steps = range(1, min(max_steps_S, max_steps_E)+1)\n",
    "                return_value = [self.df[self.y+i, self.x+i] for i in max_steps]\n",
    "            case Direction.S:\n",
    "                max_steps = range(1, max_steps_S+1)\n",
    "                return_value = [self.df[self.y+i, self.x] for i in max_steps]\n",
    "            case Direction.SW:\n",
    "                max_steps = range(1, min(max_steps_S, max_steps_W)+1)\n",
    "                return_value = [self.df[self.y+i, self.x-i] for i in max_steps]\n",
    "            case Direction.W:\n",
    "                max_steps = range(1, max_steps_W+1)\n",
    "                return_value = [self.df[self.y, self.x-i] for i in max_steps]\n",
    "            case Direction.NW:\n",
    "                max_steps = range(1, min(max_steps_N, max_steps_W)+1)\n",
    "                return_value = [self.df[self.y-i, self.x-i] for i in max_steps]\n",
    "            case _:\n",
    "                return_value = None\n",
    "        return return_value\n",
    "    \n",
    "    def update(self, values: List[Any], offset: int = 0, direction: Optional[Direction] = None) -> None:\n",
    "        steps = len(values)\n",
    "        if direction is None:\n",
    "            direction = self.heading\n",
    "        if offset < 0:\n",
    "            direction = Direction((direction + 4) % 8)\n",
    "            offset = abs(offset)\n",
    "        max_steps_N = min(steps, self.y + 1 - offset)\n",
    "        max_steps_E = min(steps, self.x_max - self.x - offset)\n",
    "        max_steps_S = min(steps, self.y_max - self.y - offset)\n",
    "        max_steps_W = min(steps, self.x + 1 - offset)\n",
    "        match direction:\n",
    "            case Direction.N:\n",
    "                max_steps = range(max_steps_N)\n",
    "                for i in max_steps:\n",
    "                    self.df[self.y-i-offset, self.x] = values[i]\n",
    "            case Direction.NE:\n",
    "                max_steps = range(min(max_steps_N, max_steps_E))\n",
    "                for i in max_steps:\n",
    "                    self.df[self.y-i-offset, self.x+i+offset] = values[i]\n",
    "            case Direction.E:\n",
    "                max_steps = range(max_steps_E)\n",
    "                for i in max_steps:\n",
    "                    self.df[self.y, self.x+i+offset] = values[i]\n",
    "            case Direction.SE:\n",
    "                max_steps = range(min(max_steps_S, max_steps_E))\n",
    "                for i in max_steps:\n",
    "                    self.df[self.y+i+offset, self.x+i+offset] = values[i]\n",
    "            case Direction.S:\n",
    "                max_steps = range(max_steps_S)\n",
    "                for i in max_steps:\n",
    "                    self.df[self.y+i+offset, self.x] = values[i]\n",
    "            case Direction.SW:\n",
    "                max_steps = range(min(max_steps_S, max_steps_W))\n",
    "                for i in max_steps:\n",
    "                    self.df[self.y+i+offset, self.x-i-offset] = values[i]\n",
    "            case Direction.W:\n",
    "                max_steps = range(max_steps_W)\n",
    "                for i in max_steps:\n",
    "                    self.df[self.y, self.x-i-offset] = values[i]\n",
    "            case Direction.NW:\n",
    "                max_steps = range(min(max_steps_N, max_steps_W))\n",
    "                for i in max_steps:\n",
    "                    self.df[self.y-i-offset, self.x-i-offset] = values[i]\n",
    "    \n",
    "    def walk(self, steps: int, direction: Optional[Direction] = None) -> None:\n",
    "        if direction is None:\n",
    "            direction = self.heading\n",
    "        path_length = min(steps, len(self.look(steps, direction)))\n",
    "        match direction:\n",
    "            case Direction.N:\n",
    "                self.y -= path_length  # north\n",
    "            case Direction.NE:\n",
    "                self.x += path_length  # east\n",
    "                self.y -= path_length  # north\n",
    "            case Direction.E:\n",
    "                self.x += path_length  # east\n",
    "            case Direction.SE:\n",
    "                self.x += path_length  # east\n",
    "                self.y += path_length  # south\n",
    "            case Direction.S:\n",
    "                self.y += path_length  # south\n",
    "            case Direction.SW:\n",
    "                self.x -= path_length  # west\n",
    "                self.y += path_length  # south\n",
    "            case Direction.W:\n",
    "                self.x -= path_length  # west\n",
    "            case Direction.NW:\n",
    "                self.x -= path_length  # west\n",
    "                self.y -= path_length  # north\n",
    "        \n",
    "    def rotate(self, degrees:int) -> None:\n",
    "        sign_adjustment = 0.5 if degrees > 0 else -0.5\n",
    "        new_heading = (self.heading + int(degrees//45 + sign_adjustment)) % 8\n",
    "        self.heading = Direction(new_heading)"
   ],
   "outputs": [],
   "execution_count": null
  },
  {
   "cell_type": "code",
   "metadata": {},
   "source": [
    "m = AoCMap(\n",
    "        DataFrame(\n",
    "            {\n",
    "                f'col{i}': list(range(10*i,10*(i+1))) for i in range(0,8)\n",
    "            }\n",
    "        )\n",
    ")\n",
    "print(f'{m=}')\n",
    "print(f'{m.heading=}')\n",
    "print(f'{m.position=} vs (0,0)')\n",
    "print(f'{m[0,0]=}')\n",
    "print(f'{m.look(0)=}')\n",
    "print(f'{m.at_edge=}\\n')\n",
    "\n",
    "print(f'{m.look(direction=Direction.E)=}')\n",
    "print(f'{m.look(2, Direction.E)=}')\n",
    "m.walk(2, Direction.E)\n",
    "print(f'{m.position=} vs (2,0)')\n",
    "print(f'{m[2,0]=}')\n",
    "print(f'{m.look(0)=}')\n",
    "print(f'{m.at_edge=}\\n')\n",
    "\n",
    "print(f'{m.look(direction=Direction.SE)=}')\n",
    "print(f'{m.look(4, Direction.SE)=}')\n",
    "m.walk(4, Direction.SE)\n",
    "print(f'{m.position=} vs (6,4)')\n",
    "print(f'{m[6,4]=}')\n",
    "print(f'{m.look(0)=}')\n",
    "print(f'{m.at_edge=}\\n')\n",
    "\n",
    "print(f'{m.look(direction=Direction.S)=}')\n",
    "print(f'{m.look(2, Direction.S)=}')\n",
    "m.walk(2, Direction.S)\n",
    "print(f'{m.position=} vs (6,6)')\n",
    "print(f'{m[6,6]=}')\n",
    "print(f'{m.look(0)=}')\n",
    "print(f'{m.at_edge=}\\n')\n",
    "\n",
    "print(f'{m.look(direction=Direction.SW)=}')\n",
    "print(f'{m.look(2, Direction.SW)=}')\n",
    "m.walk(2, Direction.SW)\n",
    "print(f'{m.position=} vs (4,8)')\n",
    "print(f'{m[4,8]=}')\n",
    "print(f'{m.look(0)=}')\n",
    "print(f'{m.at_edge=}\\n')\n",
    "\n",
    "print(f'{m.look(direction=Direction.W)=}')\n",
    "print(f'{m.look(2, Direction.W)=}')\n",
    "m.walk(2, Direction.W)\n",
    "print(f'{m.position=} vs (2,8)')\n",
    "print(f'{m[2,8]=}')\n",
    "print(f'{m.look(0)=}')\n",
    "print(f'{m.at_edge=}\\n')\n",
    "\n",
    "print(f'{m.look(direction=Direction.NW)=}')\n",
    "print(f'{m.look(2, Direction.NW)=}')\n",
    "m.walk(2, Direction.NW)\n",
    "print(f'{m.position=} vs (0,6)')\n",
    "print(f'{m[0,6]=}')\n",
    "print(f'{m.look(0)=}')\n",
    "print(f'{m.at_edge=}\\n')\n",
    "\n",
    "m.position = (7,0)\n",
    "print(f'{m.position=} vs (7,0)')\n",
    "print(f'{m[7,0]=}')\n",
    "print(f'{m.look(0)=}')\n",
    "print(f'{m.at_edge=}\\n')\n",
    "\n",
    "m.position = (7,9)\n",
    "print(f'{m.position=} vs (7,9)')\n",
    "print(f'{m[7,9]=}')\n",
    "print(f'{m.look(0)=}')\n",
    "print(f'{m.at_edge=}\\n')\n",
    "\n",
    "m.position = (0,9)\n",
    "print(f'{m.position=} vs (0,9)')\n",
    "print(f'{m[0,9]=}')\n",
    "print(f'{m.look(0)=}')\n",
    "print(f'{m.at_edge=}\\n')\n",
    "\n",
    "print(f'{m.heading=}')\n",
    "m.rotate(45)\n",
    "print(f'{m.heading=} vs NE after rotating 45°')\n",
    "m.rotate(90)\n",
    "print(f'{m.heading=} vs SE after rotating 90°')\n",
    "m.rotate(135)\n",
    "print(f'{m.heading=} vs W after rotating 135°')\n",
    "m.rotate(180)\n",
    "print(f'{m.heading=} vs E after rotating 180°')\n",
    "m.rotate(225)\n",
    "print(f'{m.heading=} vs NW after rotating 225°')\n",
    "m.rotate(270)\n",
    "print(f'{m.heading=} vs SW after rotating 270°')\n",
    "m.rotate(315)\n",
    "print(f'{m.heading=} vs S after rotating 315°')\n",
    "m.rotate(360)\n",
    "print(f'{m.heading=} vs S after rotating 360°\\n')\n",
    "\n",
    "m.rotate(-45)\n",
    "print(f'{m.heading=} vs SE after rotating -45°')\n",
    "m.rotate(-90)\n",
    "print(f'{m.heading=} vs NE after rotating -90°')\n",
    "m.rotate(-135)\n",
    "print(f'{m.heading=} vs W after rotating -135°')\n",
    "m.rotate(-180)\n",
    "print(f'{m.heading=} vs E after rotating -180°')\n",
    "m.rotate(-225)\n",
    "print(f'{m.heading=} vs SW after rotating -225°')\n",
    "m.rotate(-270)\n",
    "print(f'{m.heading=} vs NW after rotating -270°')\n",
    "m.rotate(-315)\n",
    "print(f'{m.heading=} vs N after rotating -315°')\n",
    "m.rotate(-360)\n",
    "print(f'{m.heading=} vs N after rotating -360°')\n",
    "\n",
    "m.position = (0,9)\n",
    "print(f'{m.position=} vs (0,9)')\n",
    "print(f'{m.look(0)=}')\n",
    "m.update(values=list(range(90,100)), direction=Direction.N)\n",
    "print(f'{m=}')\n",
    "m.update(values=list(range(90,100)), direction=Direction.N, offset=3)\n",
    "print(f'{m=}')\n",
    "m.update(values=list(range(90,100)), direction=Direction.NE)\n",
    "print(f'{m=}')\n",
    "m.update(values=list(range(90,100)), offset=3, direction=Direction.NE)\n",
    "print(f'{m=}')\n",
    "m.update(values=list(range(90,100)), direction=Direction.E)\n",
    "print(f'{m=}')\n",
    "m.update(values=list(range(90,100)), offset=3, direction=Direction.E)\n",
    "print(f'{m=}\\n')\n",
    "\n",
    "m.position = (3,0)\n",
    "print(f'{m.position=} vs (3,0)')\n",
    "print(f'{m.look(0)=}')\n",
    "m.update(values=list(range(90,100)), direction=Direction.SE)\n",
    "print(f'{m=}')\n",
    "m.update(values=list(range(90,100)), direction=Direction.SE, offset=3)\n",
    "print(f'{m=}')\n",
    "m.update(values=list(range(90,100)), direction=Direction.S)\n",
    "print(f'{m=}')\n",
    "m.update(values=list(range(90,100)), direction=Direction.S, offset=3)\n",
    "print(f'{m=}')\n",
    "m.update(values=list(range(90,100)), direction=Direction.SW)\n",
    "print(f'{m=}')\n",
    "m.update(values=list(range(90,100)), direction=Direction.SW, offset=3)\n",
    "print(f'{m=}')\n",
    "m.update(values=list(range(90,100)), direction=Direction.W)\n",
    "print(f'{m=}')\n",
    "m.update(values=list(range(90,100)), direction=Direction.W, offset=3)\n",
    "print(f'{m=}\\n')\n",
    "\n",
    "m.position = (7,9)\n",
    "print(f'{m.position=} vs (7,9)')\n",
    "print(f'{m.look(0)=}')\n",
    "m.update(values=list(range(90,100)), direction=Direction.NW)\n",
    "print(f'{m=}')\n",
    "m.update(values=list(range(90,100)), direction=Direction.NW, offset=3)\n",
    "print(f'{m=}\\n')\n",
    "\n",
    "print(f'{m.value_counts=}')"
   ],
   "outputs": [],
   "execution_count": null
  },
  {
   "cell_type": "code",
   "metadata": {
    "pycharm": {
     "name": "#%%\n"
    }
   },
   "source": [
    "class StuckInALoop(Exception):\n",
    "    pass\n",
    "\n",
    "class Solver(AoCSolver):\n",
    "    \n",
    "    @staticmethod\n",
    "    def build_map(data: DataFrame) -> AoCMap:\n",
    "        initial_x = initial_y = 0\n",
    "        for initial_x, col in enumerate(data.iter_columns()):\n",
    "            search_results = data.select(polars.arg_where(col == '^'))\n",
    "            if not search_results.is_empty():\n",
    "                initial_y = search_results.item()\n",
    "                break\n",
    "        return AoCMap(df=data.clone(), x=initial_x, y=initial_y, heading=Direction.N)\n",
    "    \n",
    "    @staticmethod\n",
    "    def walk_map(lab_map: AoCMap) -> AoCMap:\n",
    "        paths_walked = set()\n",
    "        guard_on_map = True\n",
    "        while guard_on_map:\n",
    "            starting_position = lab_map.position\n",
    "            path_contents = lab_map.look()\n",
    "            try:\n",
    "                obstruction_location = path_contents.index('#')\n",
    "            except ValueError:\n",
    "                obstruction_location = math.inf\n",
    "                guard_on_map = False\n",
    "            steps = min(len(path_contents), obstruction_location)\n",
    "            breadcrumbs = ['X'] * (steps + 1)\n",
    "            lab_map.update(values=breadcrumbs, offset=0)\n",
    "            lab_map.walk(steps)\n",
    "            lab_map.rotate(90)\n",
    "            ending_position = lab_map.position\n",
    "            path_walked = (starting_position, ending_position)\n",
    "            if path_walked in paths_walked:\n",
    "                raise StuckInALoop(f'Path repeated: {starting_position} to {ending_position}!')\n",
    "            paths_walked.add((starting_position, ending_position))\n",
    "        return lab_map\n",
    "    \n",
    "    def solve_part1(self, data: DataFrame) -> int:\n",
    "        lab_map = self.build_map(data)\n",
    "        updated_map = self.walk_map(lab_map)\n",
    "        return updated_map.value_counts['X']\n",
    "\n",
    "    def solve_part2(self, data: DataFrame) -> int:\n",
    "        lab_map = self.build_map(data)\n",
    "        x_max, y_max = lab_map.x_max, lab_map.y_max\n",
    "        loops_caught = 0\n",
    "        for x in tqdm(range(x_max)):\n",
    "            for y in tqdm(range(y_max)):\n",
    "                updated_map = lab_map.clone()\n",
    "                start_position = updated_map.position\n",
    "                updated_map.position = (x,y)\n",
    "                updated_map.update(values=['#'], offset=0)\n",
    "                updated_map.position = start_position\n",
    "                try:\n",
    "                    self.walk_map(updated_map)\n",
    "                except StuckInALoop:\n",
    "                    loops_caught += 1\n",
    "        return loops_caught"
   ],
   "outputs": [],
   "execution_count": null
  },
  {
   "cell_type": "code",
   "metadata": {},
   "source": [
    "solver = Solver(PUZZLE_YEAR, PUZZLE_DAY, AoC_SESSION)"
   ],
   "outputs": [],
   "execution_count": null
  },
  {
   "cell_type": "markdown",
   "metadata": {
    "pycharm": {
     "name": "#%% md\n"
    },
    "scrolled": false
   },
   "source": [
    "# Build part 1 test case(s)"
   ]
  },
  {
   "cell_type": "code",
   "metadata": {
    "pycharm": {
     "name": "#%%\n"
    }
   },
   "source": [
    "puzzle_instructions = solver.puzzle_instructions\n",
    "\n",
    "part1_test_input = solver.get_value_after('For example:').create_polars()\n",
    "print(f'{part1_test_input=}\\n')\n",
    "\n",
    "part1_test_output = solver.get_value_after('the guard will visit ').as_int\n",
    "print(f'{part1_test_output=}\\n')"
   ],
   "outputs": [],
   "execution_count": null
  },
  {
   "cell_type": "code",
   "metadata": {},
   "source": [
    "part_1_tester = AoCTester()\n",
    "part_1_tester.add_test_case(part1_test_input, part1_test_output)"
   ],
   "outputs": [],
   "execution_count": null
  },
  {
   "cell_type": "code",
   "metadata": {},
   "source": [
    "%%time\n",
    "part_1_tester.run_tests(solver.solve_part1)"
   ],
   "outputs": [],
   "execution_count": null
  },
  {
   "cell_type": "markdown",
   "metadata": {},
   "source": [
    "# Determine part 1 solution"
   ]
  },
  {
   "cell_type": "code",
   "metadata": {},
   "source": [
    "puzzle_input = solver.puzzle_input.create_polars()\n",
    "part1_solution = solver.solve_part1(puzzle_input)\n",
    "print(f'{part1_solution=}\\n')"
   ],
   "outputs": [],
   "execution_count": null
  },
  {
   "cell_type": "markdown",
   "metadata": {},
   "source": [
    "# Add part 1 solution to part 1 test cases"
   ]
  },
  {
   "cell_type": "code",
   "metadata": {
    "pycharm": {
     "name": "#%%\n"
    }
   },
   "source": [
    "part_1_tester.add_test_case(puzzle_input, part1_solution)"
   ],
   "outputs": [],
   "execution_count": null
  },
  {
   "cell_type": "code",
   "metadata": {},
   "source": [
    "%%time\n",
    "part_1_tester.run_tests(solver.solve_part1)"
   ],
   "outputs": [],
   "execution_count": null
  },
  {
   "cell_type": "markdown",
   "metadata": {},
   "source": [
    "# Build part 2 test case(s)"
   ]
  },
  {
   "cell_type": "code",
   "metadata": {},
   "source": [
    "solver.download_instructions(overwrite=True)"
   ],
   "outputs": [],
   "execution_count": null
  },
  {
   "cell_type": "code",
   "metadata": {},
   "source": [
    "part2_test_input = part1_test_input\n",
    "print(f'{part2_test_input=}\\n')\n",
    "\n",
    "part2_test_output = solver.get_value_after('in this example, there are ').as_int\n",
    "print(f'{part2_test_output=}\\n')"
   ],
   "outputs": [],
   "execution_count": null
  },
  {
   "cell_type": "code",
   "metadata": {
    "pycharm": {
     "name": "#%%\n"
    }
   },
   "source": [
    "part_2_tester = AoCTester()\n",
    "part_2_tester.add_test_case(part2_test_input, part2_test_output)"
   ],
   "outputs": [],
   "execution_count": null
  },
  {
   "cell_type": "code",
   "metadata": {},
   "source": [
    "%%time\n",
    "part_2_tester.run_tests(solver.solve_part2)"
   ],
   "outputs": [],
   "execution_count": null
  },
  {
   "cell_type": "markdown",
   "metadata": {},
   "source": [
    "# Determine part 2 solution"
   ]
  },
  {
   "cell_type": "code",
   "metadata": {},
   "source": [
    "%%time\n",
    "part2_solution = solver.solve_part2(puzzle_input)\n",
    "print(f'{part2_solution=}\\n')"
   ],
   "outputs": [],
   "execution_count": null
  }
 ],
 "metadata": {
  "kernelspec": {
   "display_name": "Python 3 (ipykernel)",
   "language": "python",
   "name": "python3"
  },
  "language_info": {
   "codemirror_mode": {
    "name": "ipython",
    "version": 3
   },
   "file_extension": ".py",
   "mimetype": "text/x-python",
   "name": "python",
   "nbconvert_exporter": "python",
   "pygments_lexer": "ipython3",
   "version": "3.12.8"
  }
 },
 "nbformat": 4,
 "nbformat_minor": 4
}
