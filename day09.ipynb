{
 "cells": [
  {
   "cell_type": "markdown",
   "metadata": {
    "pycharm": {
     "name": "#%% md\n"
    },
    "scrolled": false
   },
   "source": [
    "# Set puzzle parameters and create AoC Session"
   ]
  },
  {
   "cell_type": "code",
   "execution_count": 1,
   "metadata": {},
   "outputs": [],
   "source": [
    "# set puzzle parameters\n",
    "PUZZLE_DAY = 9\n",
    "PUZZLE_YEAR = 2024\n",
    "\n",
    "# import from local packages\n",
    "from aoc_solver import AoCSession, AoCSolver, AoCTester\n",
    "AoC_SESSION = AoCSession.from_file()"
   ]
  },
  {
   "cell_type": "markdown",
   "metadata": {},
   "source": [
    "# Import additional packages"
   ]
  },
  {
   "cell_type": "code",
   "execution_count": 2,
   "metadata": {},
   "outputs": [],
   "source": [
    "# import from standard library packages\n",
    "from typing import Tuple\n",
    "\n",
    "# import from third-party packages\n",
    "import polars\n",
    "from polars import Series\n",
    "from tqdm.notebook import tqdm"
   ]
  },
  {
   "cell_type": "markdown",
   "metadata": {
    "pycharm": {
     "name": "#%% md\n"
    },
    "scrolled": false
   },
   "source": [
    "# Create solver class and instance"
   ]
  },
  {
   "cell_type": "code",
   "execution_count": 3,
   "metadata": {
    "pycharm": {
     "name": "#%%\n"
    }
   },
   "outputs": [],
   "source": [
    "class Solver(AoCSolver):\n",
    "    def solve_part1(self, data: Tuple[str]) -> int:\n",
    "        filesystem_length = sum(int(i) for i in data)\n",
    "        filesystem = Series(['.']*filesystem_length)\n",
    "        \n",
    "        file_id = 0\n",
    "        current_index = 0\n",
    "        open_blocks = []\n",
    "        for i, record in enumerate(tqdm(data)):\n",
    "            current_blocks = list(range(current_index, current_index+record))\n",
    "            if i % 2 == 0:\n",
    "                filesystem[current_blocks] = Series([file_id]*record)\n",
    "                file_id += 1\n",
    "            else:\n",
    "                open_blocks.extend(current_blocks)\n",
    "            current_index += record\n",
    "        \n",
    "        open_blocks_index = 0\n",
    "        for i in tqdm(range(filesystem_length-1, -1, -1)):\n",
    "            if filesystem[i] =='.':\n",
    "                continue\n",
    "            if i <= open_blocks[open_blocks_index]:\n",
    "                break\n",
    "            filesystem[open_blocks[open_blocks_index]] = filesystem[i]\n",
    "            filesystem[i] = '.'\n",
    "            open_blocks_index += 1\n",
    "        return sum(i*int(x) for i,x in enumerate(filesystem) if x != '.')\n",
    "\n",
    "    def solve_part2(self, data: ...) -> int:\n",
    "        return ..."
   ]
  },
  {
   "cell_type": "code",
   "execution_count": 4,
   "metadata": {},
   "outputs": [],
   "source": [
    "solver = Solver(PUZZLE_YEAR, PUZZLE_DAY, AoC_SESSION)"
   ]
  },
  {
   "cell_type": "markdown",
   "metadata": {
    "pycharm": {
     "name": "#%% md\n"
    },
    "scrolled": false
   },
   "source": [
    "# Build part 1 test case(s)"
   ]
  },
  {
   "cell_type": "code",
   "execution_count": 6,
   "metadata": {
    "pycharm": {
     "name": "#%%\n"
    }
   },
   "outputs": [
    {
     "name": "stdout",
     "output_type": "stream",
     "text": [
      "instructions_matching_text='2333133121414131402'\n",
      "\n",
      "part1_test_input=(2, 3, 3, 3, 1, 3, 3, 1, 2, 1, 4, 1, 4, 1, 3, 1, 4, 0, 2)\n",
      "\n",
      "instructions_matching_text='1928'\n",
      "\n",
      "part1_test_output=1928\n",
      "\n"
     ]
    }
   ],
   "source": [
    "puzzle_instructions = solver.puzzle_instructions\n",
    "\n",
    "part1_test_input = solver.get_value_after('For example:').create_tuple(dtype=int ,separator='')\n",
    "print(f'{part1_test_input=}\\n')\n",
    "\n",
    "part1_test_output = solver.get_value_after('is the sum of these, ').as_int\n",
    "print(f'{part1_test_output=}\\n')"
   ]
  },
  {
   "cell_type": "code",
   "execution_count": 7,
   "metadata": {},
   "outputs": [],
   "source": [
    "part_1_tester = AoCTester()\n",
    "part_1_tester.add_test_case(part1_test_input, part1_test_output)"
   ]
  },
  {
   "cell_type": "code",
   "execution_count": 8,
   "metadata": {},
   "outputs": [
    {
     "data": {
      "application/vnd.jupyter.widget-view+json": {
       "model_id": "e899219e655b4ddab2e4406e704f243e",
       "version_major": 2,
       "version_minor": 0
      },
      "text/plain": [
       "  0%|          | 0/19 [00:00<?, ?it/s]"
      ]
     },
     "metadata": {},
     "output_type": "display_data"
    },
    {
     "data": {
      "application/vnd.jupyter.widget-view+json": {
       "model_id": "0ca3a3f3d301404396dd3d90dafe1870",
       "version_major": 2,
       "version_minor": 0
      },
      "text/plain": [
       "  0%|          | 0/42 [00:00<?, ?it/s]"
      ]
     },
     "metadata": {},
     "output_type": "display_data"
    },
    {
     "name": "stdout",
     "output_type": "stream",
     "text": [
      "data[:5]=(2, 3, 3, 3, 1)\n",
      "expected_output=1928\n",
      "actual_output=1928\n",
      "outputs_equal=True\n",
      "\n",
      "CPU times: user 45.1 ms, sys: 51 μs, total: 45.2 ms\n",
      "Wall time: 42.6 ms\n"
     ]
    }
   ],
   "source": [
    "%%time\n",
    "part_1_tester.run_tests(solver.solve_part1)"
   ]
  },
  {
   "cell_type": "markdown",
   "metadata": {},
   "source": [
    "# Determine part 1 solution"
   ]
  },
  {
   "cell_type": "code",
   "execution_count": 9,
   "metadata": {},
   "outputs": [
    {
     "data": {
      "application/vnd.jupyter.widget-view+json": {
       "model_id": "4e8cd3b407b8451db56b7017988e6b91",
       "version_major": 2,
       "version_minor": 0
      },
      "text/plain": [
       "  0%|          | 0/19999 [00:00<?, ?it/s]"
      ]
     },
     "metadata": {},
     "output_type": "display_data"
    },
    {
     "data": {
      "application/vnd.jupyter.widget-view+json": {
       "model_id": "15e06f9a8a224d279586c049293469af",
       "version_major": 2,
       "version_minor": 0
      },
      "text/plain": [
       "  0%|          | 0/95195 [00:00<?, ?it/s]"
      ]
     },
     "metadata": {},
     "output_type": "display_data"
    },
    {
     "name": "stdout",
     "output_type": "stream",
     "text": [
      "part1_solution=6401092019345\n",
      "\n",
      "CPU times: user 1min 48s, sys: 127 ms, total: 1min 48s\n",
      "Wall time: 1min 48s\n"
     ]
    }
   ],
   "source": [
    "%%time\n",
    "puzzle_input = solver.puzzle_input.create_tuple(dtype=int ,separator='')\n",
    "part1_solution = solver.solve_part1(puzzle_input)\n",
    "print(f'{part1_solution=}\\n')"
   ]
  },
  {
   "cell_type": "markdown",
   "metadata": {},
   "source": [
    "# Add part 1 solution to part 1 test cases"
   ]
  },
  {
   "cell_type": "code",
   "execution_count": null,
   "metadata": {
    "pycharm": {
     "name": "#%%\n"
    }
   },
   "outputs": [],
   "source": [
    "part_1_tester.add_test_case(puzzle_input, part1_solution)"
   ]
  },
  {
   "cell_type": "code",
   "execution_count": null,
   "metadata": {},
   "outputs": [],
   "source": [
    "%%time\n",
    "part_1_tester.run_tests(solver.solve_part1)"
   ]
  },
  {
   "cell_type": "markdown",
   "metadata": {},
   "source": [
    "# Build part 2 test case(s)"
   ]
  },
  {
   "cell_type": "code",
   "execution_count": null,
   "metadata": {},
   "outputs": [],
   "source": [
    "solver.download_instructions(overwrite=True)"
   ]
  },
  {
   "cell_type": "code",
   "execution_count": null,
   "metadata": {},
   "outputs": [],
   "source": [
    "# part2_test_input = solver.get_value_after('...').as_int\n",
    "# part2_test_input = solver.get_value_after('...').create_polars(dtype,separator)\n",
    "# part2_test_input = solver.get_value_after('...').as_string\n",
    "# part2_test_input = solver.get_value_after('...').create_tuple(dtype,separator)\n",
    "part2_test_input = part1_test_input\n",
    "print(f'{part2_test_input=}\\n')\n",
    "\n",
    "part2_test_output = solver.get_value_after('...').as_int\n",
    "print(f'{part2_test_output=}\\n')"
   ]
  },
  {
   "cell_type": "code",
   "execution_count": null,
   "metadata": {
    "pycharm": {
     "name": "#%%\n"
    }
   },
   "outputs": [],
   "source": [
    "part_2_tester = AoCTester()\n",
    "part_2_tester.add_test_case(part2_test_input, part2_test_output)"
   ]
  },
  {
   "cell_type": "code",
   "execution_count": null,
   "metadata": {},
   "outputs": [],
   "source": [
    "%%time\n",
    "part_2_tester.run_tests(solver.solve_part2)"
   ]
  },
  {
   "cell_type": "markdown",
   "metadata": {},
   "source": [
    "# Determine part 2 solution"
   ]
  },
  {
   "cell_type": "code",
   "execution_count": null,
   "metadata": {},
   "outputs": [],
   "source": [
    "%%time\n",
    "part2_solution = solver.solve_part2(puzzle_input)\n",
    "print(f'{part2_solution=}\\n')"
   ]
  }
 ],
 "metadata": {
  "kernelspec": {
   "display_name": "Python 3 (ipykernel)",
   "language": "python",
   "name": "python3"
  },
  "language_info": {
   "codemirror_mode": {
    "name": "ipython",
    "version": 3
   },
   "file_extension": ".py",
   "mimetype": "text/x-python",
   "name": "python",
   "nbconvert_exporter": "python",
   "pygments_lexer": "ipython3",
   "version": "3.12.8"
  }
 },
 "nbformat": 4,
 "nbformat_minor": 4
}
