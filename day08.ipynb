{
 "cells": [
  {
   "cell_type": "markdown",
   "metadata": {
    "pycharm": {
     "name": "#%% md\n"
    },
    "scrolled": false
   },
   "source": [
    "# Set puzzle parameters and create AoC Session"
   ]
  },
  {
   "cell_type": "code",
   "metadata": {},
   "source": [
    "from polars import DataFrame\n",
    "\n",
    "# set puzzle parameters\n",
    "PUZZLE_DAY = 8\n",
    "PUZZLE_YEAR = 2024\n",
    "\n",
    "# import from local packages\n",
    "from aoc_solver import AoCSession, AoCSolver, AoCTester\n",
    "AoC_SESSION = AoCSession.from_file()"
   ],
   "outputs": [],
   "execution_count": null
  },
  {
   "cell_type": "markdown",
   "metadata": {},
   "source": [
    "# Import additional packages"
   ]
  },
  {
   "cell_type": "code",
   "metadata": {},
   "source": [
    "# import from standard library packages\n",
    "from itertools import combinations\n",
    "\n",
    "# import from local packages\n",
    "from aoc_solver import AoCMap"
   ],
   "outputs": [],
   "execution_count": null
  },
  {
   "cell_type": "markdown",
   "metadata": {
    "pycharm": {
     "name": "#%% md\n"
    },
    "scrolled": false
   },
   "source": [
    "# Create solver class and instance"
   ]
  },
  {
   "cell_type": "code",
   "metadata": {
    "pycharm": {
     "name": "#%%\n"
    }
   },
   "source": [
    "class Solver(AoCSolver):\n",
    "    def solve_part1(self, data: DataFrame) -> int:\n",
    "        city_map = AoCMap(data)\n",
    "        antenna_positions = city_map.element_positions\n",
    "        antenna_positions.pop('.')\n",
    "        antinode_positions = set()\n",
    "        for k, v in antenna_positions.items():\n",
    "            antenna_pairs = combinations(v, 2)\n",
    "            for p1, p2 in antenna_pairs:\n",
    "                dist = (p2[0] - p1[0], p2[1] - p1[1])\n",
    "                possible_antinode1 = (\n",
    "                    p1[0] - dist[0],\n",
    "                    p1[1] - dist[1]\n",
    "                )\n",
    "                if city_map.encloses(*possible_antinode1):\n",
    "                    antinode_positions.add(possible_antinode1)\n",
    "                possible_antinode2 = (\n",
    "                    p2[0] + dist[0],\n",
    "                    p2[1] + dist[1]\n",
    "                )\n",
    "                if city_map.encloses(*possible_antinode2):\n",
    "                    antinode_positions.add(possible_antinode2)\n",
    "        return len(antinode_positions)\n",
    "\n",
    "    def solve_part2(self, data: DataFrame) -> int:\n",
    "        city_map = AoCMap(data)\n",
    "        antenna_positions = city_map.element_positions\n",
    "        antenna_positions.pop('.')\n",
    "        antinode_positions = set()\n",
    "        for k, v in antenna_positions.items():\n",
    "            antenna_pairs = combinations(v, 2)\n",
    "            for p1, p2 in antenna_pairs:\n",
    "                dist = (p2[0] - p1[0], p2[1] - p1[1])\n",
    "\n",
    "                i = 0\n",
    "                backwards_is_possible = True\n",
    "                while backwards_is_possible:\n",
    "                    possible_antinode1 = (\n",
    "                        p1[0] - i*dist[0],\n",
    "                        p1[1] - i*dist[1]\n",
    "                    )\n",
    "                    if city_map.encloses(*possible_antinode1):\n",
    "                        i += 1\n",
    "                        antinode_positions.add(possible_antinode1)\n",
    "                    else:\n",
    "                        backwards_is_possible = False\n",
    "\n",
    "                i = 0\n",
    "                forwards_is_possible = True\n",
    "                while forwards_is_possible:\n",
    "                    possible_antinode2 = (\n",
    "                        p2[0] + i*dist[0],\n",
    "                        p2[1] + i*dist[1]\n",
    "                    )\n",
    "                    if city_map.encloses(*possible_antinode2):\n",
    "                        i += 1\n",
    "                        antinode_positions.add(possible_antinode2)\n",
    "                    else:\n",
    "                        forwards_is_possible = False\n",
    "        return len(antinode_positions)"
   ],
   "outputs": [],
   "execution_count": null
  },
  {
   "cell_type": "code",
   "metadata": {},
   "source": [
    "solver = Solver(PUZZLE_YEAR, PUZZLE_DAY, AoC_SESSION)"
   ],
   "outputs": [],
   "execution_count": null
  },
  {
   "cell_type": "markdown",
   "metadata": {
    "pycharm": {
     "name": "#%% md\n"
    },
    "scrolled": false
   },
   "source": [
    "# Build part 1 test case(s)"
   ]
  },
  {
   "cell_type": "code",
   "metadata": {
    "pycharm": {
     "name": "#%%\n"
    }
   },
   "source": [
    "puzzle_instructions = solver.puzzle_instructions\n",
    "\n",
    "part1_test_input = solver.get_value_after('For example:').create_polars()\n",
    "print(f'{part1_test_input=}\\n')\n",
    "\n",
    "part1_test_output = solver.get_value_after('antinode, there are ').as_int\n",
    "print(f'{part1_test_output=}\\n')"
   ],
   "outputs": [],
   "execution_count": null
  },
  {
   "cell_type": "code",
   "metadata": {},
   "source": [
    "part_1_tester = AoCTester()\n",
    "part_1_tester.add_test_case(part1_test_input, part1_test_output)"
   ],
   "outputs": [],
   "execution_count": null
  },
  {
   "metadata": {},
   "cell_type": "code",
   "source": [
    "%%time\n",
    "part_1_tester.run_tests(solver.solve_part1)"
   ],
   "outputs": [],
   "execution_count": null
  },
  {
   "metadata": {},
   "cell_type": "markdown",
   "source": "# Determine part 1 solution"
  },
  {
   "metadata": {},
   "cell_type": "code",
   "source": [
    "%%time\n",
    "puzzle_input = solver.puzzle_input.create_polars()\n",
    "part1_solution = solver.solve_part1(puzzle_input)\n",
    "print(f'{part1_solution=}\\n')"
   ],
   "outputs": [],
   "execution_count": null
  },
  {
   "metadata": {},
   "cell_type": "markdown",
   "source": "# Add part 1 solution to part 1 test cases"
  },
  {
   "cell_type": "code",
   "metadata": {
    "pycharm": {
     "name": "#%%\n"
    }
   },
   "source": "part_1_tester.add_test_case(puzzle_input, part1_solution)",
   "outputs": [],
   "execution_count": null
  },
  {
   "metadata": {},
   "cell_type": "code",
   "source": [
    "%%time\n",
    "part_1_tester.run_tests(solver.solve_part1)"
   ],
   "outputs": [],
   "execution_count": null
  },
  {
   "metadata": {},
   "cell_type": "markdown",
   "source": "# Build part 2 test case(s)"
  },
  {
   "cell_type": "code",
   "metadata": {},
   "source": "solver.download_instructions(overwrite=True)",
   "outputs": [],
   "execution_count": null
  },
  {
   "cell_type": "code",
   "metadata": {},
   "source": [
    "part2_test_input = part1_test_input\n",
    "print(f'{part2_test_input=}\\n')\n",
    "\n",
    "part2_test_output = solver.get_value_after('example now has ').as_int\n",
    "print(f'{part2_test_output=}\\n')"
   ],
   "outputs": [],
   "execution_count": null
  },
  {
   "cell_type": "code",
   "metadata": {
    "pycharm": {
     "name": "#%%\n"
    }
   },
   "source": [
    "part_2_tester = AoCTester()\n",
    "part_2_tester.add_test_case(part2_test_input, part2_test_output)"
   ],
   "outputs": [],
   "execution_count": null
  },
  {
   "metadata": {},
   "cell_type": "code",
   "source": [
    "%%time\n",
    "part_2_tester.run_tests(solver.solve_part2)"
   ],
   "outputs": [],
   "execution_count": null
  },
  {
   "metadata": {},
   "cell_type": "markdown",
   "source": "# Determine part 2 solution"
  },
  {
   "metadata": {},
   "cell_type": "code",
   "source": [
    "%%time\n",
    "part2_solution = solver.solve_part2(puzzle_input)\n",
    "print(f'{part2_solution=}\\n')"
   ],
   "outputs": [],
   "execution_count": null
  }
 ],
 "metadata": {
  "kernelspec": {
   "display_name": "Python 3 (ipykernel)",
   "language": "python",
   "name": "python3"
  },
  "language_info": {
   "codemirror_mode": {
    "name": "ipython",
    "version": 3
   },
   "file_extension": ".py",
   "mimetype": "text/x-python",
   "name": "python",
   "nbconvert_exporter": "python",
   "pygments_lexer": "ipython3",
   "version": "3.12.8"
  }
 },
 "nbformat": 4,
 "nbformat_minor": 4
}
