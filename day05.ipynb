{
 "cells": [
  {
   "cell_type": "markdown",
   "metadata": {
    "pycharm": {
     "name": "#%% md\n"
    },
    "scrolled": false
   },
   "source": [
    "# Set puzzle parameters and create AoC Session"
   ]
  },
  {
   "cell_type": "code",
   "metadata": {},
   "source": [
    "# set puzzle parameters\n",
    "PUZZLE_DAY = 5\n",
    "PUZZLE_YEAR = 2024\n",
    "\n",
    "# import from local packages\n",
    "from aoc_solver import AoCSession, AoCSolver, AoCTester\n",
    "AoC_SESSION = AoCSession.from_file()"
   ],
   "outputs": [],
   "execution_count": null
  },
  {
   "cell_type": "markdown",
   "metadata": {},
   "source": [
    "# Import additional packages"
   ]
  },
  {
   "cell_type": "code",
   "metadata": {},
   "source": [
    "# import from standard library packages\n",
    "from collections import defaultdict\n",
    "from typing import List, Tuple"
   ],
   "outputs": [],
   "execution_count": null
  },
  {
   "cell_type": "markdown",
   "metadata": {
    "pycharm": {
     "name": "#%% md\n"
    },
    "scrolled": false
   },
   "source": [
    "# Create solver class and instance"
   ]
  },
  {
   "cell_type": "code",
   "metadata": {
    "pycharm": {
     "name": "#%%\n"
    }
   },
   "source": [
    "class Solver(AoCSolver):\n",
    "\n",
    "    @staticmethod\n",
    "    def is_valid(pages: list, rules: defaultdict) -> bool:\n",
    "        return_value = False\n",
    "        for i, page in enumerate(pages[:-1]):\n",
    "            if not set(pages[i+1:]).issubset(rules[page]):\n",
    "                break\n",
    "        else:\n",
    "            return_value = True\n",
    "        return return_value\n",
    "    \n",
    "    def solve_part1(self, data: Tuple[str, str]) -> int:\n",
    "        rules = defaultdict(set)\n",
    "        for rule in data[0].splitlines():\n",
    "            earlier_page, later_page = rule.split('|')\n",
    "            rules[earlier_page].add(later_page)\n",
    "\n",
    "        valid_updates: List[List[str]] = [\n",
    "            pages\n",
    "            for update in data[1].splitlines()\n",
    "            if self.is_valid(pages := update.split(','), rules)\n",
    "        ]\n",
    "        return sum(int(pages[len(pages)//2]) for pages in valid_updates)\n",
    "\n",
    "    def solve_part2(self, data: Tuple[str, str]) -> int:\n",
    "        rules = defaultdict(set)\n",
    "        for rule in data[0].splitlines():\n",
    "            earlier_page, later_page = rule.split('|')\n",
    "            rules[earlier_page].add(later_page)\n",
    "\n",
    "        invalid_updates: List[List[str]] = [\n",
    "            pages\n",
    "            for update in data[1].splitlines()\n",
    "            if not self.is_valid(pages := update.split(','), rules)\n",
    "        ]\n",
    "        \n",
    "        reordered_updates = []\n",
    "        for pages in invalid_updates:\n",
    "            reordered_pages = []\n",
    "            remaining_pages = pages.copy()\n",
    "            while len(reordered_pages) != len(pages):\n",
    "                for i, page in enumerate(remaining_pages):\n",
    "                    other_pages = set(remaining_pages) - set([page])\n",
    "                    if other_pages.issubset(rules[page]):\n",
    "                        remaining_pages.pop(i)\n",
    "                        reordered_pages.append(page)\n",
    "                        break\n",
    "            reordered_updates.append(reordered_pages)\n",
    "        \n",
    "        return sum(int(pages[len(pages)//2]) for pages in reordered_updates)"
   ],
   "outputs": [],
   "execution_count": null
  },
  {
   "cell_type": "code",
   "metadata": {},
   "source": [
    "solver = Solver(PUZZLE_YEAR, PUZZLE_DAY, AoC_SESSION)"
   ],
   "outputs": [],
   "execution_count": null
  },
  {
   "cell_type": "markdown",
   "metadata": {
    "pycharm": {
     "name": "#%% md\n"
    },
    "scrolled": false
   },
   "source": [
    "# Build part 1 test case(s)"
   ]
  },
  {
   "cell_type": "code",
   "metadata": {
    "pycharm": {
     "name": "#%%\n"
    }
   },
   "source": [
    "puzzle_instructions = solver.puzzle_instructions\n",
    "part1_test_input = solver.get_value_after('For example:').create_tuple()\n",
    "print(f'{part1_test_input=}\\n')\n",
    "\n",
    "part1_test_output = solver.get_value_after('page numbers together gives ').as_int\n",
    "print(f'{part1_test_output=}\\n')"
   ],
   "outputs": [],
   "execution_count": null
  },
  {
   "cell_type": "code",
   "metadata": {},
   "source": [
    "part_1_tester = AoCTester()\n",
    "part_1_tester.add_test_case(part1_test_input, part1_test_output)"
   ],
   "outputs": [],
   "execution_count": null
  },
  {
   "cell_type": "code",
   "metadata": {},
   "source": [
    "%%time\n",
    "part_1_tester.run_tests(solver.solve_part1)"
   ],
   "outputs": [],
   "execution_count": null
  },
  {
   "cell_type": "markdown",
   "metadata": {},
   "source": [
    "# Determine part 1 solution"
   ]
  },
  {
   "metadata": {},
   "cell_type": "code",
   "outputs": [],
   "execution_count": null,
   "source": [
    "%%time\n",
    "puzzle_input = solver.puzzle_input.create_tuple()\n",
    "part1_solution = solver.solve_part1(puzzle_input)\n",
    "print(f'{part1_solution=}\\n')"
   ]
  },
  {
   "cell_type": "markdown",
   "metadata": {},
   "source": [
    "# Add part 1 solution to part 1 test cases"
   ]
  },
  {
   "cell_type": "code",
   "metadata": {
    "pycharm": {
     "name": "#%%\n"
    }
   },
   "source": [
    "part_1_tester.add_test_case(puzzle_input, part1_solution)"
   ],
   "outputs": [],
   "execution_count": null
  },
  {
   "cell_type": "code",
   "metadata": {},
   "source": [
    "%%time\n",
    "part_1_tester.run_tests(solver.solve_part1)"
   ],
   "outputs": [],
   "execution_count": null
  },
  {
   "cell_type": "markdown",
   "metadata": {},
   "source": [
    "# Build part 2 test case(s)"
   ]
  },
  {
   "cell_type": "code",
   "metadata": {},
   "source": [
    "solver.download_instructions(overwrite=True)"
   ],
   "outputs": [],
   "execution_count": null
  },
  {
   "cell_type": "code",
   "metadata": {},
   "source": [
    "part2_test_input = part1_test_input\n",
    "print(f'{part2_test_input=}\\n')\n",
    "\n",
    "part2_test_output = solver.get_value_after('Adding these together produces ').as_int\n",
    "print(f'{part2_test_output=}\\n')"
   ],
   "outputs": [],
   "execution_count": null
  },
  {
   "cell_type": "code",
   "metadata": {
    "pycharm": {
     "name": "#%%\n"
    }
   },
   "source": [
    "part_2_tester = AoCTester()\n",
    "part_2_tester.add_test_case(part2_test_input, part2_test_output)"
   ],
   "outputs": [],
   "execution_count": null
  },
  {
   "cell_type": "code",
   "metadata": {},
   "source": [
    "%%time\n",
    "part_2_tester.run_tests(solver.solve_part2)"
   ],
   "outputs": [],
   "execution_count": null
  },
  {
   "cell_type": "markdown",
   "metadata": {},
   "source": [
    "# Determine part 2 solution"
   ]
  },
  {
   "cell_type": "code",
   "metadata": {},
   "source": [
    "%%time\n",
    "part2_solution = solver.solve_part2(puzzle_input)\n",
    "print(f'{part2_solution=}\\n')"
   ],
   "outputs": [],
   "execution_count": null
  }
 ],
 "metadata": {
  "kernelspec": {
   "display_name": "Python 3 (ipykernel)",
   "language": "python",
   "name": "python3"
  },
  "language_info": {
   "codemirror_mode": {
    "name": "ipython",
    "version": 3
   },
   "file_extension": ".py",
   "mimetype": "text/x-python",
   "name": "python",
   "nbconvert_exporter": "python",
   "pygments_lexer": "ipython3",
   "version": "3.12.8"
  }
 },
 "nbformat": 4,
 "nbformat_minor": 4
}
