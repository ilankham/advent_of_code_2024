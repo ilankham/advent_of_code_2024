{
 "cells": [
  {
   "cell_type": "markdown",
   "metadata": {
    "pycharm": {
     "name": "#%% md\n"
    },
    "scrolled": false
   },
   "source": [
    "# Set puzzle parameters and create AoC Session"
   ]
  },
  {
   "cell_type": "code",
   "execution_count": null,
   "metadata": {},
   "outputs": [],
   "source": [
    "# set puzzle parameters\n",
    "PUZZLE_DAY = ...\n",
    "PUZZLE_YEAR = 2024\n",
    "\n",
    "# import from local packages\n",
    "from aoc_solver import AoCSession, AoCSolver, AoCTester\n",
    "AoC_SESSION = AoCSession.from_file()"
   ]
  },
  {
   "cell_type": "markdown",
   "metadata": {},
   "source": [
    "# Import additional packages"
   ]
  },
  {
   "cell_type": "code",
   "execution_count": null,
   "metadata": {},
   "outputs": [],
   "source": [
    "# import from standard library packages\n",
    "...\n",
    "\n",
    "# import from third-party packages\n",
    "..."
   ]
  },
  {
   "cell_type": "markdown",
   "metadata": {
    "pycharm": {
     "name": "#%% md\n"
    },
    "scrolled": false
   },
   "source": [
    "# Create solver class and instance"
   ]
  },
  {
   "cell_type": "code",
   "execution_count": null,
   "metadata": {
    "pycharm": {
     "name": "#%%\n"
    }
   },
   "outputs": [],
   "source": [
    "class Solver(AoCSolver):\n",
    "    def solve_part1(self, data: ...) -> int:\n",
    "        return ...\n",
    "\n",
    "    def solve_part2(self, data: ...) -> int:\n",
    "        return ..."
   ]
  },
  {
   "cell_type": "code",
   "execution_count": null,
   "metadata": {},
   "outputs": [],
   "source": [
    "solver = Solver(PUZZLE_YEAR, PUZZLE_DAY, AoC_SESSION)"
   ]
  },
  {
   "cell_type": "markdown",
   "metadata": {
    "pycharm": {
     "name": "#%% md\n"
    },
    "scrolled": false
   },
   "source": [
    "# Build part 1 test case(s)"
   ]
  },
  {
   "cell_type": "code",
   "execution_count": null,
   "metadata": {
    "pycharm": {
     "name": "#%%\n"
    }
   },
   "outputs": [],
   "source": [
    "puzzle_instructions = solver.puzzle_instructions\n",
    "\n",
    "# part1_test_input = solver.get_value_after('...').as_int\n",
    "# part1_test_input = solver.get_value_after('...').as_polars\n",
    "# part1_test_input = solver.get_value_after('...').create_polars(dtype,separator)\n",
    "# part1_test_input = solver.get_value_after('...').as_string\n",
    "# part1_test_input = solver.get_value_after('...').as_tuple\n",
    "# part1_test_input = solver.get_value_after('...').create_tuple(dtype,separator)\n",
    "print(f'{part1_test_input=}\\n')\n",
    "\n",
    "part1_test_output = solver.get_value_after('...').as_int\n",
    "print(f'{part1_test_output=}\\n')"
   ]
  },
  {
   "cell_type": "code",
   "execution_count": null,
   "metadata": {},
   "outputs": [],
   "source": [
    "part_1_tester = AoCTester()\n",
    "part_1_tester.add_test_case(part1_test_input, part1_test_output)"
   ]
  },
  {
   "metadata": {},
   "cell_type": "code",
   "outputs": [],
   "execution_count": null,
   "source": "part_1_tester.run_tests(solver.solve_part1)"
  },
  {
   "metadata": {},
   "cell_type": "markdown",
   "source": "# Determine part 1 solution"
  },
  {
   "metadata": {},
   "cell_type": "code",
   "outputs": [],
   "execution_count": null,
   "source": [
    "# puzzle_input = solver.puzzle_input.as_int\n",
    "# puzzle_input = solver.puzzle_input.as_polars\n",
    "# puzzle_input = solver.get_value_after('...').create_polars(dtype,separator)\n",
    "# puzzle_input = solver.puzzle_input.as_string\n",
    "# puzzle_input = solver.get_value_after('...').as_tuple\n",
    "# puzzle_input = solver.get_value_after('...').create_tuple(dtype,separator)\n",
    "print(f'{part1_test_input=}\\n')\n",
    "part1_solution = solver.solve_part1(puzzle_input)\n",
    "print(f'{part1_solution=}\\n')"
   ]
  },
  {
   "metadata": {},
   "cell_type": "markdown",
   "source": "# Add part 1 solution to part 1 test cases"
  },
  {
   "cell_type": "code",
   "execution_count": null,
   "metadata": {
    "pycharm": {
     "name": "#%%\n"
    }
   },
   "outputs": [],
   "source": "part_1_tester.add_test_case(puzzle_input, part1_solution)"
  },
  {
   "metadata": {},
   "cell_type": "code",
   "outputs": [],
   "execution_count": null,
   "source": "part_1_tester.run_tests(solver.solve_part1)"
  },
  {
   "metadata": {},
   "cell_type": "markdown",
   "source": "# Build part 2 test case(s)"
  },
  {
   "cell_type": "code",
   "execution_count": null,
   "metadata": {},
   "outputs": [],
   "source": "solver.download_instructions(overwrite=True)"
  },
  {
   "cell_type": "code",
   "execution_count": null,
   "metadata": {},
   "outputs": [],
   "source": [
    "# part2_test_input = solver.get_value_after('...').as_int\n",
    "# part2_test_input = solver.get_value_after('...').as_polars\n",
    "# part2_test_input = solver.get_value_after('...').create_polars(dtype,separator)\n",
    "# part2_test_input = solver.get_value_after('...').as_string\n",
    "# part2_test_input = solver.get_value_after('...').as_tuple\n",
    "# part2_test_input = solver.get_value_after('...').create_tuple(dtype,separator)\n",
    "part2_test_input = part1_test_input\n",
    "print(f'{part2_test_input=}\\n')\n",
    "\n",
    "part2_test_output = solver.get_value_after('...').as_int\n",
    "print(f'{part2_test_output=}\\n')"
   ]
  },
  {
   "cell_type": "code",
   "execution_count": null,
   "metadata": {
    "pycharm": {
     "name": "#%%\n"
    }
   },
   "outputs": [],
   "source": [
    "part_2_tester = AoCTester()\n",
    "part_2_tester.add_test_case(part2_test_input, part2_test_output)"
   ]
  },
  {
   "metadata": {},
   "cell_type": "code",
   "outputs": [],
   "execution_count": null,
   "source": "part_2_tester.run_tests(solver.solve_part2)"
  },
  {
   "metadata": {},
   "cell_type": "markdown",
   "source": "# Determine part 2 solution"
  },
  {
   "metadata": {},
   "cell_type": "code",
   "outputs": [],
   "execution_count": null,
   "source": [
    "part2_solution = solver.solve_part2(puzzle_input)\n",
    "print(f'{part2_solution=}\\n')"
   ]
  }
 ],
 "metadata": {
  "kernelspec": {
   "display_name": "Python 3 (ipykernel)",
   "language": "python",
   "name": "python3"
  },
  "language_info": {
   "codemirror_mode": {
    "name": "ipython",
    "version": 3
   },
   "file_extension": ".py",
   "mimetype": "text/x-python",
   "name": "python",
   "nbconvert_exporter": "python",
   "pygments_lexer": "ipython3",
   "version": "3.12.8"
  }
 },
 "nbformat": 4,
 "nbformat_minor": 4
}
