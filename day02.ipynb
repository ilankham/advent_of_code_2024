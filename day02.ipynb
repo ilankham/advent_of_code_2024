{
 "cells": [
  {
   "cell_type": "markdown",
   "metadata": {
    "pycharm": {
     "name": "#%% md\n"
    },
    "scrolled": false
   },
   "source": [
    "# Set puzzle parameters and create AoC Session"
   ]
  },
  {
   "cell_type": "code",
   "metadata": {},
   "source": [
    "# set puzzle parameters\n",
    "PUZZLE_DAY = 2\n",
    "PUZZLE_YEAR = 2024\n",
    "\n",
    "# import from local packages\n",
    "from aoc_solver import AoCSession, AoCSolver, AoCTester\n",
    "AoC_SESSION = AoCSession.from_file()"
   ],
   "outputs": [],
   "execution_count": null
  },
  {
   "cell_type": "markdown",
   "metadata": {},
   "source": [
    "# Import additional packages"
   ]
  },
  {
   "cell_type": "code",
   "metadata": {},
   "source": [
    "# import from third-party packages\n",
    "import polars\n",
    "from polars import DataFrame"
   ],
   "outputs": [],
   "execution_count": null
  },
  {
   "cell_type": "markdown",
   "metadata": {
    "pycharm": {
     "name": "#%% md\n"
    },
    "scrolled": false
   },
   "source": [
    "# Create solver class and instance"
   ]
  },
  {
   "cell_type": "code",
   "metadata": {
    "pycharm": {
     "name": "#%%\n"
    }
   },
   "source": [
    "class Solver(AoCSolver):\n",
    "\n",
    "    def solve_part1(self, data: DataFrame) -> int:\n",
    "\n",
    "        def is_safe(row: dict) -> bool:\n",
    "            elements = [i for i in row.values() if i]\n",
    "            differences = [x-y for x,y in zip(elements[:-1], elements[1:])]\n",
    "            is_monotonic = all(x > 0 for x in differences) or all(x < 0 for x in differences)\n",
    "            has_small_changes = all(abs(x) <= 3 for x in differences)\n",
    "            return is_monotonic and has_small_changes\n",
    "\n",
    "        data_augmented = data.with_columns(\n",
    "            polars\n",
    "            .struct(polars.all())\n",
    "            .map_elements(is_safe, return_dtype=polars.Boolean)\n",
    "            .alias(\"safe\")\n",
    "        )\n",
    "\n",
    "        return sum(data_augmented['safe'])\n",
    "\n",
    "    def solve_part2(self, data: DataFrame) -> int:\n",
    "\n",
    "        def is_safe(row: dict) -> bool:\n",
    "            all_elements = [i for i in row.values() if i]\n",
    "            is_monotonic = False\n",
    "            has_small_changes = False\n",
    "            for i in range(len(all_elements)):\n",
    "                elements = all_elements.copy()\n",
    "                elements.pop(i)\n",
    "                differences = [x-y for x,y in zip(elements[:-1], elements[1:])]\n",
    "                is_monotonic = all(x > 0 for x in differences) or all(x < 0 for x in differences)\n",
    "                has_small_changes = all(abs(x) <= 3 for x in differences)\n",
    "                if is_monotonic and has_small_changes:\n",
    "                    break\n",
    "            return is_monotonic and has_small_changes\n",
    "\n",
    "        data_augmented = data.with_columns(\n",
    "            polars\n",
    "            .struct(polars.all())\n",
    "            .map_elements(is_safe, return_dtype=polars.Boolean)\n",
    "            .alias(\"safe\")\n",
    "        )\n",
    "\n",
    "        return sum(data_augmented['safe'])"
   ],
   "outputs": [],
   "execution_count": null
  },
  {
   "cell_type": "code",
   "metadata": {},
   "source": [
    "solver = Solver(PUZZLE_YEAR, PUZZLE_DAY, AoC_SESSION)"
   ],
   "outputs": [],
   "execution_count": null
  },
  {
   "cell_type": "markdown",
   "metadata": {
    "pycharm": {
     "name": "#%% md\n"
    },
    "scrolled": false
   },
   "source": [
    "# Build part 1 test case(s)"
   ]
  },
  {
   "cell_type": "code",
   "metadata": {
    "pycharm": {
     "name": "#%%\n"
    }
   },
   "source": [
    "puzzle_instructions = solver.puzzle_instructions\n",
    "\n",
    "part1_test_input = solver.get_value_after('by spaces. For example:').create_polars(int, None)\n",
    "print(f'{part1_test_input=}\\n')\n",
    "\n",
    "part1_test_output = solver.get_value_after('So, in this example, ').as_int\n",
    "print(f'{part1_test_output=}\\n')"
   ],
   "outputs": [],
   "execution_count": null
  },
  {
   "cell_type": "code",
   "metadata": {},
   "source": [
    "part_1_tester = AoCTester()\n",
    "part_1_tester.add_test_case(part1_test_input, part1_test_output)"
   ],
   "outputs": [],
   "execution_count": null
  },
  {
   "metadata": {},
   "cell_type": "code",
   "source": [
    "%%time\n",
    "part_1_tester.run_tests(solver.solve_part1)"
   ],
   "outputs": [],
   "execution_count": null
  },
  {
   "metadata": {},
   "cell_type": "markdown",
   "source": "# Determine part 1 solution"
  },
  {
   "metadata": {},
   "cell_type": "code",
   "outputs": [],
   "execution_count": null,
   "source": [
    "%%time\n",
    "puzzle_input = solver.puzzle_input.create_polars(int, None)\n",
    "part1_solution = solver.solve_part1(puzzle_input)\n",
    "print(f'{part1_solution=}\\n')"
   ]
  },
  {
   "metadata": {},
   "cell_type": "markdown",
   "source": "# Add part 1 solution to part 1 test cases"
  },
  {
   "cell_type": "code",
   "metadata": {
    "pycharm": {
     "name": "#%%\n"
    }
   },
   "source": "part_1_tester.add_test_case(puzzle_input, part1_solution)",
   "outputs": [],
   "execution_count": null
  },
  {
   "metadata": {},
   "cell_type": "code",
   "source": [
    "%%time\n",
    "part_1_tester.run_tests(solver.solve_part1)"
   ],
   "outputs": [],
   "execution_count": null
  },
  {
   "metadata": {},
   "cell_type": "markdown",
   "source": "# Build part 2 test case(s)"
  },
  {
   "cell_type": "code",
   "metadata": {},
   "source": "solver.download_instructions(overwrite=True)",
   "outputs": [],
   "execution_count": null
  },
  {
   "cell_type": "code",
   "metadata": {},
   "source": [
    "part2_test_input = part1_test_input\n",
    "print(f'{part2_test_input=}\\n')\n",
    "\n",
    "part2_test_output = solver.get_value_after('Problem Dampener, ').as_int\n",
    "print(f'{part2_test_output=}\\n')"
   ],
   "outputs": [],
   "execution_count": null
  },
  {
   "cell_type": "code",
   "metadata": {
    "pycharm": {
     "name": "#%%\n"
    }
   },
   "source": [
    "part_2_tester = AoCTester()\n",
    "part_2_tester.add_test_case(part2_test_input, part2_test_output)"
   ],
   "outputs": [],
   "execution_count": null
  },
  {
   "metadata": {},
   "cell_type": "code",
   "source": [
    "%%time\n",
    "part_2_tester.run_tests(solver.solve_part2)"
   ],
   "outputs": [],
   "execution_count": null
  },
  {
   "metadata": {},
   "cell_type": "markdown",
   "source": "# Determine part 2 solution"
  },
  {
   "metadata": {},
   "cell_type": "code",
   "source": [
    "%%time\n",
    "part2_solution = solver.solve_part2(puzzle_input)\n",
    "print(f'{part2_solution=}\\n')"
   ],
   "outputs": [],
   "execution_count": null
  }
 ],
 "metadata": {
  "kernelspec": {
   "display_name": "Python 3 (ipykernel)",
   "language": "python",
   "name": "python3"
  },
  "language_info": {
   "codemirror_mode": {
    "name": "ipython",
    "version": 3
   },
   "file_extension": ".py",
   "mimetype": "text/x-python",
   "name": "python",
   "nbconvert_exporter": "python",
   "pygments_lexer": "ipython3",
   "version": "3.12.8"
  }
 },
 "nbformat": 4,
 "nbformat_minor": 4
}
