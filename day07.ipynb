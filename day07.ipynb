{
 "cells": [
  {
   "cell_type": "markdown",
   "metadata": {
    "pycharm": {
     "name": "#%% md\n"
    },
    "scrolled": false
   },
   "source": [
    "# Set puzzle parameters and create AoC Session"
   ]
  },
  {
   "cell_type": "code",
   "execution_count": null,
   "metadata": {},
   "outputs": [],
   "source": [
    "# set puzzle parameters\n",
    "PUZZLE_DAY = 7\n",
    "PUZZLE_YEAR = 2024\n",
    "\n",
    "# import from local packages\n",
    "from aoc_solver import AoCSession, AoCSolver, AoCTester\n",
    "AoC_SESSION = AoCSession.from_file()"
   ]
  },
  {
   "cell_type": "markdown",
   "metadata": {},
   "source": [
    "# Import additional packages"
   ]
  },
  {
   "cell_type": "code",
   "execution_count": null,
   "metadata": {},
   "outputs": [],
   "source": [
    "# import from standard library packages\n",
    "from itertools import product\n",
    "from typing import Tuple\n",
    "\n",
    "# import from third-party packages\n",
    "from tqdm.notebook import tqdm"
   ]
  },
  {
   "cell_type": "markdown",
   "metadata": {
    "pycharm": {
     "name": "#%% md\n"
    },
    "scrolled": false
   },
   "source": [
    "# Create solver class and instance"
   ]
  },
  {
   "cell_type": "code",
   "execution_count": null,
   "metadata": {
    "pycharm": {
     "name": "#%%\n"
    }
   },
   "outputs": [],
   "source": [
    "class Solver(AoCSolver):\n",
    "    def solve_part1(self, data: Tuple[str]) -> int:\n",
    "        valid_equations = []\n",
    "        for line in tqdm(data):\n",
    "            result, operands_str = line.split(': ')\n",
    "            rhs = int(result)\n",
    "            operands = [operand for operand in operands_str.split()]\n",
    "            for operators in product('+*', repeat=len(operands)-1):\n",
    "                result = operands[0]\n",
    "                for i, rh_operand in enumerate(operands[1:]):\n",
    "                    result = eval(f'{result}{operators[i]}{rh_operand}')\n",
    "                if result == rhs:\n",
    "                    lhs = ''.join(\n",
    "                        operand+operator for operand, operator\n",
    "                        in zip(operands[:-1], operators)\n",
    "                    )+operands[-1]\n",
    "                    valid_equations.append((rhs, f'{lhs}={rhs}'))\n",
    "                    break\n",
    "        return sum(eqn[0] for eqn in valid_equations)\n",
    "\n",
    "    def solve_part2(self, data: Tuple[str]) -> int:\n",
    "        valid_equations = []\n",
    "        for line in tqdm(data):\n",
    "            result, operands_str = line.split(': ')\n",
    "            rhs = int(result)\n",
    "            operands = [operand for operand in operands_str.split()]\n",
    "            for operators in product('+*c', repeat=len(operands)-1):\n",
    "                result = operands[0]\n",
    "                for i, rh_operand in enumerate(operands[1:]):\n",
    "                    if operators[i] in ('+', '*'):\n",
    "                        result = eval(f'{result}{operators[i]}{rh_operand}')\n",
    "                    elif operators[i] == 'c':\n",
    "                        result = int(f'{result}{rh_operand}')\n",
    "                if result == rhs:\n",
    "                    lhs = ''.join(\n",
    "                        operand+operator for operand, operator\n",
    "                        in zip(operands[:-1], operators)\n",
    "                    )+operands[-1]\n",
    "                    valid_equations.append((rhs, f'{lhs}={rhs}'))\n",
    "                    break\n",
    "        return sum(eqn[0] for eqn in valid_equations)"
   ]
  },
  {
   "cell_type": "code",
   "execution_count": null,
   "metadata": {},
   "outputs": [],
   "source": [
    "solver = Solver(PUZZLE_YEAR, PUZZLE_DAY, AoC_SESSION)"
   ]
  },
  {
   "cell_type": "markdown",
   "metadata": {
    "pycharm": {
     "name": "#%% md\n"
    },
    "scrolled": false
   },
   "source": [
    "# Build part 1 test case(s)"
   ]
  },
  {
   "cell_type": "code",
   "execution_count": null,
   "metadata": {
    "pycharm": {
     "name": "#%%\n"
    }
   },
   "outputs": [],
   "source": [
    "puzzle_instructions = solver.puzzle_instructions\n",
    "\n",
    "part1_test_input = solver.get_value_after('For example:').create_tuple(dtype=str,separator='\\n')\n",
    "print(f'{part1_test_input=}\\n')\n",
    "\n",
    "part1_test_output = solver.get_value_after('listed above is ').as_int\n",
    "print(f'{part1_test_output=}\\n')"
   ]
  },
  {
   "cell_type": "code",
   "execution_count": null,
   "metadata": {},
   "outputs": [],
   "source": [
    "part_1_tester = AoCTester()\n",
    "part_1_tester.add_test_case(part1_test_input, part1_test_output)"
   ]
  },
  {
   "cell_type": "code",
   "execution_count": null,
   "metadata": {},
   "outputs": [],
   "source": [
    "%%time\n",
    "part_1_tester.run_tests(solver.solve_part1)"
   ]
  },
  {
   "cell_type": "markdown",
   "metadata": {},
   "source": [
    "# Determine part 1 solution"
   ]
  },
  {
   "cell_type": "code",
   "execution_count": null,
   "metadata": {},
   "outputs": [],
   "source": [
    "%%time\n",
    "puzzle_input = solver.puzzle_input.create_tuple(dtype=str,separator='\\n')\n",
    "part1_solution = solver.solve_part1(puzzle_input)\n",
    "print(f'{part1_solution=}\\n')"
   ]
  },
  {
   "cell_type": "markdown",
   "metadata": {},
   "source": [
    "# Add part 1 solution to part 1 test cases"
   ]
  },
  {
   "cell_type": "code",
   "execution_count": null,
   "metadata": {
    "pycharm": {
     "name": "#%%\n"
    }
   },
   "outputs": [],
   "source": [
    "part_1_tester.add_test_case(puzzle_input, part1_solution)"
   ]
  },
  {
   "cell_type": "code",
   "execution_count": null,
   "metadata": {},
   "outputs": [],
   "source": [
    "%%time\n",
    "part_1_tester.run_tests(solver.solve_part1)"
   ]
  },
  {
   "cell_type": "markdown",
   "metadata": {},
   "source": [
    "# Build part 2 test case(s)"
   ]
  },
  {
   "cell_type": "code",
   "execution_count": null,
   "metadata": {},
   "outputs": [],
   "source": [
    "solver.download_instructions(overwrite=True)"
   ]
  },
  {
   "cell_type": "code",
   "execution_count": null,
   "metadata": {},
   "outputs": [],
   "source": [
    "part2_test_input = part1_test_input\n",
    "print(f'{part2_test_input=}\\n')\n",
    "\n",
    "part2_test_output = 11387\n",
    "print(f'{part2_test_output=}\\n')"
   ]
  },
  {
   "cell_type": "code",
   "execution_count": null,
   "metadata": {
    "pycharm": {
     "name": "#%%\n"
    }
   },
   "outputs": [],
   "source": [
    "part_2_tester = AoCTester()\n",
    "part_2_tester.add_test_case(part2_test_input, part2_test_output)"
   ]
  },
  {
   "cell_type": "code",
   "execution_count": null,
   "metadata": {},
   "outputs": [],
   "source": [
    "%%time\n",
    "part_2_tester.run_tests(solver.solve_part2)"
   ]
  },
  {
   "cell_type": "markdown",
   "metadata": {},
   "source": [
    "# Determine part 2 solution"
   ]
  },
  {
   "cell_type": "code",
   "execution_count": null,
   "metadata": {},
   "outputs": [],
   "source": [
    "%%time\n",
    "part2_solution = solver.solve_part2(puzzle_input)\n",
    "print(f'{part2_solution=}\\n')"
   ]
  }
 ],
 "metadata": {
  "kernelspec": {
   "display_name": "Python 3 (ipykernel)",
   "language": "python",
   "name": "python3"
  },
  "language_info": {
   "codemirror_mode": {
    "name": "ipython",
    "version": 3
   },
   "file_extension": ".py",
   "mimetype": "text/x-python",
   "name": "python",
   "nbconvert_exporter": "python",
   "pygments_lexer": "ipython3",
   "version": "3.12.8"
  }
 },
 "nbformat": 4,
 "nbformat_minor": 4
}
