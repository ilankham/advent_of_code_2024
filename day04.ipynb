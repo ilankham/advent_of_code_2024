{
 "cells": [
  {
   "cell_type": "markdown",
   "metadata": {
    "pycharm": {
     "name": "#%% md\n"
    },
    "scrolled": false
   },
   "source": [
    "# Set puzzle parameters and create AoC Session"
   ]
  },
  {
   "metadata": {},
   "cell_type": "code",
   "source": [
    "# set puzzle parameters\n",
    "PUZZLE_DAY = 4\n",
    "PUZZLE_YEAR = 2024\n",
    "\n",
    "# import from local packages\n",
    "from aoc_solver import AoCSession, AoCSolver, AoCTester\n",
    "AoC_SESSION = AoCSession.from_file()"
   ],
   "outputs": [],
   "execution_count": null
  },
  {
   "cell_type": "markdown",
   "metadata": {},
   "source": [
    "# Import additional packages"
   ]
  },
  {
   "metadata": {},
   "cell_type": "code",
   "source": [
    "# import from third-party packages\n",
    "from polars import DataFrame\n",
    "\n",
    "# import from local packages\n",
    "from aoc_solver import AoCMap, Direction"
   ],
   "outputs": [],
   "execution_count": null
  },
  {
   "metadata": {},
   "cell_type": "markdown",
   "source": "# Create solver class and instance"
  },
  {
   "metadata": {},
   "cell_type": "code",
   "source": [
    "class Solver(AoCSolver):\n",
    "\n",
    "    def solve_part1(self, data: DataFrame) -> int:\n",
    "        word_search = AoCMap(data)\n",
    "        x_max, y_max = word_search.shape\n",
    "        strings_to_check = []\n",
    "        for x in range(x_max):\n",
    "            for y in range(y_max):\n",
    "                word_search.position = (x, y)\n",
    "                if word_search.look(0) != 'X':\n",
    "                    continue\n",
    "                strings_to_check.append(\n",
    "                    ''.join(word_search.look(steps=3, direction=Direction.N))\n",
    "                )\n",
    "                strings_to_check.append(\n",
    "                    ''.join(word_search.look(steps=3, direction=Direction.NE))\n",
    "                )\n",
    "                strings_to_check.append(\n",
    "                    ''.join(word_search.look(steps=3, direction=Direction.E))\n",
    "                )\n",
    "                strings_to_check.append(\n",
    "                    ''.join(word_search.look(steps=3, direction=Direction.SE))\n",
    "                )\n",
    "                strings_to_check.append(\n",
    "                    ''.join(word_search.look(steps=3, direction=Direction.S))\n",
    "                )\n",
    "                strings_to_check.append(\n",
    "                    ''.join(word_search.look(steps=3, direction=Direction.SW))\n",
    "                )\n",
    "                strings_to_check.append(\n",
    "                    ''.join(word_search.look(steps=3, direction=Direction.W))\n",
    "                )\n",
    "                strings_to_check.append(\n",
    "                    ''.join(word_search.look(steps=3, direction=Direction.NW))\n",
    "                )\n",
    "        return strings_to_check.count('MAS')\n",
    "\n",
    "    def solve_part2(self, data: DataFrame) -> int:\n",
    "        word_search = AoCMap(data)\n",
    "        x_max, y_max = word_search.shape\n",
    "        strings_to_check = []\n",
    "        for x in range(x_max):\n",
    "            for y in range(y_max):\n",
    "                word_search.position = (x, y)\n",
    "                if word_search.look(0) != 'A':\n",
    "                    continue\n",
    "                strings_to_check.append(  # NW + NE\n",
    "                    ''.join(\n",
    "                        word_search.look(steps=1, direction=Direction.NW) +\n",
    "                        word_search.look(steps=1, direction=Direction.SE) +\n",
    "                        word_search.look(steps=1, direction=Direction.NE) +\n",
    "                        word_search.look(steps=1, direction=Direction.SW)\n",
    "                    )\n",
    "                )\n",
    "                strings_to_check.append(  # NW + SW\n",
    "                    ''.join(\n",
    "                        word_search.look(steps=1, direction=Direction.NW) +\n",
    "                        word_search.look(steps=1, direction=Direction.SE) +\n",
    "                        word_search.look(steps=1, direction=Direction.SW) +\n",
    "                        word_search.look(steps=1, direction=Direction.NE)\n",
    "                    )\n",
    "                )\n",
    "                strings_to_check.append(  # NE + SE\n",
    "                    ''.join(\n",
    "                        word_search.look(steps=1, direction=Direction.NE) +\n",
    "                        word_search.look(steps=1, direction=Direction.SW) +\n",
    "                        word_search.look(steps=1, direction=Direction.SE) +\n",
    "                        word_search.look(steps=1, direction=Direction.NW)\n",
    "                    )\n",
    "                )\n",
    "                strings_to_check.append(  # SE + SW\n",
    "                    ''.join(\n",
    "                        word_search.look(steps=1, direction=Direction.SE) +\n",
    "                        word_search.look(steps=1, direction=Direction.NW) +\n",
    "                        word_search.look(steps=1, direction=Direction.SW) +\n",
    "                        word_search.look(steps=1, direction=Direction.NE)\n",
    "                    )\n",
    "                )\n",
    "        return strings_to_check.count('MSMS')"
   ],
   "outputs": [],
   "execution_count": null
  },
  {
   "metadata": {},
   "cell_type": "code",
   "source": "solver = Solver(PUZZLE_YEAR, PUZZLE_DAY, AoC_SESSION)",
   "outputs": [],
   "execution_count": null
  },
  {
   "cell_type": "markdown",
   "metadata": {
    "pycharm": {
     "name": "#%% md\n"
    },
    "scrolled": false
   },
   "source": [
    "# Build part 1 test case(s)"
   ]
  },
  {
   "cell_type": "code",
   "metadata": {
    "pycharm": {
     "name": "#%%\n"
    }
   },
   "source": [
    "puzzle_instructions = solver.puzzle_instructions\n",
    "\n",
    "part1_test_input = solver.get_value_after('letters instead. For example:').create_polars()\n",
    "print(f'{part1_test_input=}\\n')\n",
    "\n",
    "part1_test_output = solver.get_value_after(' occurs a total of ').as_int\n",
    "print(f'{part1_test_output=}\\n')"
   ],
   "outputs": [],
   "execution_count": null
  },
  {
   "cell_type": "code",
   "metadata": {},
   "source": [
    "part_1_tester = AoCTester()\n",
    "part_1_tester.add_test_case(part1_test_input, part1_test_output)"
   ],
   "outputs": [],
   "execution_count": null
  },
  {
   "metadata": {},
   "cell_type": "code",
   "source": [
    "%%time\n",
    "part_1_tester.run_tests(solver.solve_part1)"
   ],
   "outputs": [],
   "execution_count": null
  },
  {
   "metadata": {},
   "cell_type": "markdown",
   "source": "# Determine part 1 solution"
  },
  {
   "metadata": {},
   "cell_type": "code",
   "source": [
    "puzzle_input = solver.puzzle_input.create_polars()\n",
    "part1_solution = solver.solve_part1(puzzle_input)\n",
    "print(f'{part1_solution=}\\n')"
   ],
   "outputs": [],
   "execution_count": null
  },
  {
   "metadata": {},
   "cell_type": "markdown",
   "source": "# Add part 1 solution to part 1 test cases"
  },
  {
   "cell_type": "code",
   "metadata": {
    "pycharm": {
     "name": "#%%\n"
    }
   },
   "source": "part_1_tester.add_test_case(puzzle_input, part1_solution)",
   "outputs": [],
   "execution_count": null
  },
  {
   "metadata": {},
   "cell_type": "code",
   "source": [
    "%%time\n",
    "part_1_tester.run_tests(solver.solve_part1)"
   ],
   "outputs": [],
   "execution_count": null
  },
  {
   "metadata": {},
   "cell_type": "markdown",
   "source": "# Build part 2 test case(s)"
  },
  {
   "cell_type": "code",
   "metadata": {},
   "source": "solver.download_instructions(overwrite=True)",
   "outputs": [],
   "execution_count": null
  },
  {
   "cell_type": "code",
   "metadata": {},
   "source": [
    "part2_test_input = part1_test_input\n",
    "print(f'{part2_test_input=}\\n')\n",
    "\n",
    "part2_test_output = solver.get_value_after(' appears ').as_int\n",
    "print(f'{part2_test_output=}\\n')"
   ],
   "outputs": [],
   "execution_count": null
  },
  {
   "cell_type": "code",
   "metadata": {
    "pycharm": {
     "name": "#%%\n"
    }
   },
   "source": [
    "part_2_tester = AoCTester()\n",
    "part_2_tester.add_test_case(part2_test_input, part2_test_output)"
   ],
   "outputs": [],
   "execution_count": null
  },
  {
   "metadata": {},
   "cell_type": "code",
   "source": [
    "%%time\n",
    "part_2_tester.run_tests(solver.solve_part2)"
   ],
   "outputs": [],
   "execution_count": null
  },
  {
   "metadata": {},
   "cell_type": "markdown",
   "source": "# Determine part 2 solution"
  },
  {
   "metadata": {},
   "cell_type": "code",
   "source": [
    "%%time\n",
    "part2_solution = solver.solve_part2(puzzle_input)\n",
    "print(f'{part2_solution=}\\n')"
   ],
   "outputs": [],
   "execution_count": null
  }
 ],
 "metadata": {
  "kernelspec": {
   "display_name": "Python 3 (ipykernel)",
   "language": "python",
   "name": "python3"
  },
  "language_info": {
   "codemirror_mode": {
    "name": "ipython",
    "version": 3
   },
   "file_extension": ".py",
   "mimetype": "text/x-python",
   "name": "python",
   "nbconvert_exporter": "python",
   "pygments_lexer": "ipython3",
   "version": "3.12.8"
  }
 },
 "nbformat": 4,
 "nbformat_minor": 4
}
