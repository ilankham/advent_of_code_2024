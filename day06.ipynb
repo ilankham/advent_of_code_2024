{
 "cells": [
  {
   "cell_type": "markdown",
   "metadata": {
    "pycharm": {
     "name": "#%% md\n"
    },
    "scrolled": false
   },
   "source": [
    "# Set puzzle parameters and create AoC Session"
   ]
  },
  {
   "cell_type": "code",
   "metadata": {},
   "source": [
    "# set puzzle parameters\n",
    "PUZZLE_DAY = 6\n",
    "PUZZLE_YEAR = 2024\n",
    "\n",
    "# import from local packages\n",
    "from aoc_solver import AoCSession, AoCSolver, AoCTester\n",
    "AoC_SESSION = AoCSession.from_file()"
   ],
   "outputs": [],
   "execution_count": null
  },
  {
   "cell_type": "markdown",
   "metadata": {},
   "source": [
    "# Import additional packages"
   ]
  },
  {
   "cell_type": "code",
   "metadata": {},
   "source": [
    "# import from standard library packages\n",
    "import math\n",
    "\n",
    "# import from third-party packages\n",
    "import multiprocess as mp\n",
    "import polars\n",
    "from polars import DataFrame\n",
    "\n",
    "# import from local packages\n",
    "from aoc_solver import AoCMap, Direction"
   ],
   "outputs": [],
   "execution_count": null
  },
  {
   "cell_type": "markdown",
   "metadata": {
    "pycharm": {
     "name": "#%% md\n"
    },
    "scrolled": false
   },
   "source": [
    "# Create solver class and instance"
   ]
  },
  {
   "cell_type": "code",
   "metadata": {
    "pycharm": {
     "name": "#%%\n"
    }
   },
   "source": [
    "class StuckInALoop(Exception):\n",
    "    pass\n",
    "\n",
    "class Solver(AoCSolver):\n",
    "    \n",
    "    @staticmethod\n",
    "    def build_map(data: DataFrame) -> AoCMap:\n",
    "        initial_x = initial_y = 0\n",
    "        for initial_x, col in enumerate(data.iter_columns()):\n",
    "            search_results = data.select(polars.arg_where(col == '^'))\n",
    "            if not search_results.is_empty():\n",
    "                initial_y = search_results.item()\n",
    "                break\n",
    "        return AoCMap(df=data.clone(), x=initial_x, y=initial_y, heading=Direction.N)\n",
    "    \n",
    "    @staticmethod\n",
    "    def walk_map(lab_map: AoCMap) -> AoCMap:\n",
    "        paths_walked = set()\n",
    "        guard_on_map = True\n",
    "        while guard_on_map:\n",
    "            starting_position = lab_map.position\n",
    "            path_contents = lab_map.look()\n",
    "            try:\n",
    "                obstruction_location = path_contents.index('#')\n",
    "            except ValueError:\n",
    "                obstruction_location = math.inf\n",
    "                guard_on_map = False\n",
    "            steps = min(len(path_contents), obstruction_location)\n",
    "            breadcrumbs = ['X'] * (steps + 1)\n",
    "            lab_map.update(values=breadcrumbs, offset=0)\n",
    "            lab_map.walk(steps)\n",
    "            lab_map.rotate(90)\n",
    "            ending_position = lab_map.position\n",
    "            path_walked = (starting_position, ending_position)\n",
    "            if path_walked in paths_walked:\n",
    "                raise StuckInALoop(f'Path repeated: {starting_position} to {ending_position}!')\n",
    "            paths_walked.add((starting_position, ending_position))\n",
    "        return lab_map\n",
    "    \n",
    "    def solve_part1(self, data: DataFrame) -> int:\n",
    "        lab_map = self.build_map(data)\n",
    "        updated_map = self.walk_map(lab_map)\n",
    "        return updated_map.value_counts['X']\n",
    "\n",
    "    def solve_part2(self, data: DataFrame) -> int:\n",
    "        lab_map = self.build_map(data)\n",
    "        x_max, y_max = lab_map.shape\n",
    "        iteration_ranges = ( (lab_map, x, range(y_max)) for x in range(x_max) )\n",
    "\n",
    "        def iteration_function(lap_map, x, range_of_y_values):\n",
    "            loops_caught = 0\n",
    "            for y in range_of_y_values:\n",
    "                updated_map = lap_map.clone()\n",
    "                start_position = updated_map.position\n",
    "                updated_map.position = (x,y)\n",
    "                updated_map.update(values=['#'], offset=0)\n",
    "                updated_map.position = start_position\n",
    "                try:\n",
    "                    self.walk_map(updated_map)\n",
    "                except StuckInALoop:\n",
    "                    loops_caught += 1\n",
    "            return loops_caught\n",
    "\n",
    "        with mp.Pool(4) as pool:\n",
    "            return_value = sum(pool.starmap(iteration_function, iteration_ranges))\n",
    "\n",
    "        return return_value"
   ],
   "outputs": [],
   "execution_count": null
  },
  {
   "cell_type": "code",
   "metadata": {},
   "source": [
    "solver = Solver(PUZZLE_YEAR, PUZZLE_DAY, AoC_SESSION)"
   ],
   "outputs": [],
   "execution_count": null
  },
  {
   "cell_type": "markdown",
   "metadata": {
    "pycharm": {
     "name": "#%% md\n"
    },
    "scrolled": false
   },
   "source": [
    "# Build part 1 test case(s)"
   ]
  },
  {
   "cell_type": "code",
   "metadata": {
    "pycharm": {
     "name": "#%%\n"
    }
   },
   "source": [
    "puzzle_instructions = solver.puzzle_instructions\n",
    "\n",
    "part1_test_input = solver.get_value_after('For example:').create_polars()\n",
    "print(f'{part1_test_input=}\\n')\n",
    "\n",
    "part1_test_output = solver.get_value_after('the guard will visit ').as_int\n",
    "print(f'{part1_test_output=}\\n')"
   ],
   "outputs": [],
   "execution_count": null
  },
  {
   "cell_type": "code",
   "metadata": {},
   "source": [
    "part_1_tester = AoCTester()\n",
    "part_1_tester.add_test_case(part1_test_input, part1_test_output)"
   ],
   "outputs": [],
   "execution_count": null
  },
  {
   "cell_type": "code",
   "metadata": {},
   "source": [
    "%%time\n",
    "part_1_tester.run_tests(solver.solve_part1)"
   ],
   "outputs": [],
   "execution_count": null
  },
  {
   "cell_type": "markdown",
   "metadata": {},
   "source": [
    "# Determine part 1 solution"
   ]
  },
  {
   "metadata": {},
   "cell_type": "code",
   "outputs": [],
   "execution_count": null,
   "source": [
    "%%time\n",
    "puzzle_input = solver.puzzle_input.create_polars()\n",
    "part1_solution = solver.solve_part1(puzzle_input)\n",
    "print(f'{part1_solution=}\\n')"
   ]
  },
  {
   "cell_type": "markdown",
   "metadata": {},
   "source": [
    "# Add part 1 solution to part 1 test cases"
   ]
  },
  {
   "cell_type": "code",
   "metadata": {
    "pycharm": {
     "name": "#%%\n"
    }
   },
   "source": [
    "part_1_tester.add_test_case(puzzle_input, part1_solution)"
   ],
   "outputs": [],
   "execution_count": null
  },
  {
   "cell_type": "code",
   "metadata": {},
   "source": [
    "%%time\n",
    "part_1_tester.run_tests(solver.solve_part1)"
   ],
   "outputs": [],
   "execution_count": null
  },
  {
   "cell_type": "markdown",
   "metadata": {},
   "source": [
    "# Build part 2 test case(s)"
   ]
  },
  {
   "cell_type": "code",
   "metadata": {},
   "source": [
    "solver.download_instructions(overwrite=True)"
   ],
   "outputs": [],
   "execution_count": null
  },
  {
   "cell_type": "code",
   "metadata": {},
   "source": [
    "part2_test_input = part1_test_input\n",
    "print(f'{part2_test_input=}\\n')\n",
    "\n",
    "part2_test_output = solver.get_value_after('in this example, there are ').as_int\n",
    "print(f'{part2_test_output=}\\n')"
   ],
   "outputs": [],
   "execution_count": null
  },
  {
   "cell_type": "code",
   "metadata": {
    "pycharm": {
     "name": "#%%\n"
    }
   },
   "source": [
    "part_2_tester = AoCTester()\n",
    "part_2_tester.add_test_case(part2_test_input, part2_test_output)"
   ],
   "outputs": [],
   "execution_count": null
  },
  {
   "cell_type": "code",
   "metadata": {},
   "source": [
    "%%time\n",
    "part_2_tester.run_tests(solver.solve_part2)"
   ],
   "outputs": [],
   "execution_count": null
  },
  {
   "cell_type": "markdown",
   "metadata": {},
   "source": [
    "# Determine part 2 solution"
   ]
  },
  {
   "cell_type": "code",
   "metadata": {},
   "source": [
    "%%time\n",
    "part2_solution = solver.solve_part2(puzzle_input)\n",
    "print(f'{part2_solution=}\\n')"
   ],
   "outputs": [],
   "execution_count": null
  }
 ],
 "metadata": {
  "kernelspec": {
   "display_name": "Python 3 (ipykernel)",
   "language": "python",
   "name": "python3"
  },
  "language_info": {
   "codemirror_mode": {
    "name": "ipython",
    "version": 3
   },
   "file_extension": ".py",
   "mimetype": "text/x-python",
   "name": "python",
   "nbconvert_exporter": "python",
   "pygments_lexer": "ipython3",
   "version": "3.12.8"
  }
 },
 "nbformat": 4,
 "nbformat_minor": 4
}
